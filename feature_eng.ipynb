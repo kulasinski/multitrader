{
 "cells": [
  {
   "attachments": {},
   "cell_type": "markdown",
   "metadata": {},
   "source": [
    "# 3."
   ]
  },
  {
   "cell_type": "code",
   "execution_count": 1,
   "metadata": {},
   "outputs": [],
   "source": [
    "import pandas as pd"
   ]
  },
  {
   "cell_type": "code",
   "execution_count": 2,
   "metadata": {},
   "outputs": [],
   "source": [
    "raw_features = pd.read_csv('raw_features.csv')"
   ]
  },
  {
   "cell_type": "code",
   "execution_count": 3,
   "metadata": {},
   "outputs": [],
   "source": [
    "F = raw_features.drop(columns=['financial_date','rnk'])"
   ]
  },
  {
   "cell_type": "code",
   "execution_count": 4,
   "metadata": {},
   "outputs": [
    {
     "name": "stdout",
     "output_type": "stream",
     "text": [
      "common_stock 42 4997\n",
      "tot_cap 15 4997\n",
      "tot_debt 147 4997\n",
      "net_debt 1638 4997\n",
      "tot_reve 144 4997\n",
      "gross_profit 721 4997\n",
      "op_expense 608 4997\n",
      "op_income 594 4997\n",
      "avg_shares 253 4997\n",
      "prev_eps_diff 21 4997\n",
      "expense_to_income 608 4997\n",
      "assets_to_profit 721 4997\n",
      "debt_to_debt 1638 4997\n",
      "debt_to_cap 153 4997\n",
      "profit_to_reve 723 4997\n"
     ]
    }
   ],
   "source": [
    "# get amount of nulls\n",
    "for col in F.columns:\n",
    "    n_nulls = F[col].isnull().sum()\n",
    "    if n_nulls>0:\n",
    "        print(col,n_nulls,F.shape[0])"
   ]
  },
  {
   "cell_type": "code",
   "execution_count": 5,
   "metadata": {},
   "outputs": [],
   "source": [
    "F.dropna(inplace=True)"
   ]
  },
  {
   "cell_type": "code",
   "execution_count": 6,
   "metadata": {},
   "outputs": [
    {
     "data": {
      "text/plain": [
       "(2857, 33)"
      ]
     },
     "execution_count": 6,
     "metadata": {},
     "output_type": "execute_result"
    }
   ],
   "source": [
    "F.shape"
   ]
  },
  {
   "cell_type": "code",
   "execution_count": 7,
   "metadata": {},
   "outputs": [],
   "source": [
    "GAIN_THRESHOLD = 0.1 # min value of the max gain\n",
    "STOP_LOSS_THRESHOLD = -0.5"
   ]
  },
  {
   "cell_type": "code",
   "execution_count": 8,
   "metadata": {},
   "outputs": [],
   "source": [
    "F['tgt'] = ((F.price_min>STOP_LOSS_THRESHOLD) & (F.price_max>=GAIN_THRESHOLD)).astype(int)"
   ]
  },
  {
   "cell_type": "code",
   "execution_count": 12,
   "metadata": {},
   "outputs": [
    {
     "data": {
      "text/plain": [
       "tgt\n",
       "0    1942\n",
       "1     915\n",
       "Name: ticker, dtype: int64"
      ]
     },
     "execution_count": 12,
     "metadata": {},
     "output_type": "execute_result"
    }
   ],
   "source": [
    "classes=F.groupby('tgt').count()['ticker']\n",
    "classes"
   ]
  },
  {
   "cell_type": "code",
   "execution_count": 31,
   "metadata": {},
   "outputs": [
    {
     "data": {
      "text/plain": [
       "tgt\n",
       "0    915\n",
       "1    915\n",
       "Name: ticker, dtype: int64"
      ]
     },
     "execution_count": 31,
     "metadata": {},
     "output_type": "execute_result"
    }
   ],
   "source": [
    "# undersampling\n",
    "import random\n",
    "max_samples = classes[1]\n",
    "new_index = random.sample(F[F.tgt==0].index.to_list(), max_samples) + random.sample(F[F.tgt==1].index.to_list(), max_samples)\n",
    "F=F.loc[new_index]\n",
    "F.groupby('tgt').count()['ticker']"
   ]
  },
  {
   "cell_type": "code",
   "execution_count": 32,
   "metadata": {},
   "outputs": [],
   "source": [
    "F.to_csv('features.csv', index=False)"
   ]
  },
  {
   "cell_type": "code",
   "execution_count": null,
   "metadata": {},
   "outputs": [],
   "source": []
  }
 ],
 "metadata": {
  "kernelspec": {
   "display_name": "Python 3",
   "language": "python",
   "name": "python3"
  },
  "language_info": {
   "codemirror_mode": {
    "name": "ipython",
    "version": 3
   },
   "file_extension": ".py",
   "mimetype": "text/x-python",
   "name": "python",
   "nbconvert_exporter": "python",
   "pygments_lexer": "ipython3",
   "version": "3.8.10"
  },
  "orig_nbformat": 4,
  "vscode": {
   "interpreter": {
    "hash": "916dbcbb3f70747c44a77c7bcd40155683ae19c65e1c03b4aa3499c5328201f1"
   }
  }
 },
 "nbformat": 4,
 "nbformat_minor": 2
}

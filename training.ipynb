{
 "cells": [
  {
   "attachments": {},
   "cell_type": "markdown",
   "metadata": {},
   "source": [
    "# 4."
   ]
  },
  {
   "attachments": {},
   "cell_type": "markdown",
   "metadata": {},
   "source": [
    "model performance overview"
   ]
  },
  {
   "cell_type": "code",
   "execution_count": 240,
   "metadata": {},
   "outputs": [],
   "source": [
    "import pandas as pd\n",
    "import xgboost as xgb\n",
    "from sklearn.metrics import accuracy_score, precision_score, confusion_matrix, f1_score, recall_score, roc_curve, roc_auc_score\n",
    "from sklearn.ensemble import GradientBoostingClassifier"
   ]
  },
  {
   "cell_type": "code",
   "execution_count": 104,
   "metadata": {},
   "outputs": [],
   "source": [
    "F = pd.read_csv('features.csv')"
   ]
  },
  {
   "cell_type": "code",
   "execution_count": 105,
   "metadata": {},
   "outputs": [],
   "source": [
    "split_date = '2022-10-01'"
   ]
  },
  {
   "cell_type": "code",
   "execution_count": 106,
   "metadata": {},
   "outputs": [
    {
     "data": {
      "text/plain": [
       "Index(['ticker', 'earnings_date', 'eps_est', 'eps_actual', 'eps_diff',\n",
       "       'eps_diff_pct', 'tot_assets', 'common_stock', 'tot_cap', 'tot_debt',\n",
       "       'net_debt', 'ord_shares', 'tot_reve', 'gross_profit', 'op_expense',\n",
       "       'op_income', 'avg_shares', 'prev_eps_actual', 'prev_eps_diff',\n",
       "       'eps_q_change', 'eps_q_change_pct', 'expense_to_income',\n",
       "       'assets_to_profit', 'debt_to_debt', 'debt_to_cap', 'profit_to_reve',\n",
       "       'on_earnings_close', 'on_earnings_volume', 'market_cap',\n",
       "       'history_start_date', 'history_end_date', 'price_min', 'price_max',\n",
       "       'tgt'],\n",
       "      dtype='object')"
      ]
     },
     "execution_count": 106,
     "metadata": {},
     "output_type": "execute_result"
    }
   ],
   "source": [
    "F.columns"
   ]
  },
  {
   "cell_type": "code",
   "execution_count": 232,
   "metadata": {},
   "outputs": [],
   "source": [
    "X = F[['eps_est', 'eps_actual', 'eps_diff',\n",
    "       'eps_diff_pct', \n",
    "       #'tot_assets', 'common_stock', 'tot_cap', 'tot_debt',\n",
    "       #'net_debt', 'ord_shares', 'tot_reve', 'gross_profit', 'op_expense',\n",
    "       #'op_income', 'avg_shares', 'prev_eps_actual', 'prev_eps_diff',\n",
    "       #'expense_to_income',\n",
    "       #'eps_q_change', 'eps_q_change_pct',\n",
    "       #'assets_to_profit', 'profit_to_reve',\n",
    "       'debt_to_debt', 'debt_to_cap', \n",
    "       'on_earnings_close', 'on_earnings_volume', \n",
    "       'market_cap']]\n",
    "y = F[['tgt']]\n",
    "INFO = F[['ticker', 'earnings_date','history_start_date', 'history_end_date', 'price_min', 'price_max','tgt']]"
   ]
  },
  {
   "cell_type": "code",
   "execution_count": 233,
   "metadata": {},
   "outputs": [
    {
     "data": {
      "text/plain": [
       "0.24489795918367346"
      ]
     },
     "execution_count": 233,
     "metadata": {},
     "output_type": "execute_result"
    }
   ],
   "source": [
    "ndx_train = INFO[INFO.earnings_date< split_date].index.to_list()\n",
    "ndx_test  = INFO[INFO.earnings_date>=split_date].index.to_list()\n",
    "len(ndx_test)/len(ndx_train)"
   ]
  },
  {
   "cell_type": "code",
   "execution_count": 234,
   "metadata": {},
   "outputs": [],
   "source": [
    "X_train,    X_test    = X.iloc[ndx_train],    X.iloc[ndx_test]\n",
    "y_train,    y_test    = y.iloc[ndx_train],    y.iloc[ndx_test]\n",
    "INFO_train, INFO_test = INFO.iloc[ndx_train], INFO.iloc[ndx_test]"
   ]
  },
  {
   "attachments": {},
   "cell_type": "markdown",
   "metadata": {},
   "source": [
    "## training!"
   ]
  },
  {
   "attachments": {},
   "cell_type": "markdown",
   "metadata": {},
   "source": [
    "### xgb"
   ]
  },
  {
   "cell_type": "code",
   "execution_count": 111,
   "metadata": {},
   "outputs": [],
   "source": [
    "xg_train = xgb.DMatrix(X_train, label=y_train)\n",
    "xg_test = xgb.DMatrix(X_test, label=y_test)\n",
    "watchlist = [(xg_train, \"train\"), (xg_test, \"test\")]"
   ]
  },
  {
   "cell_type": "code",
   "execution_count": 169,
   "metadata": {},
   "outputs": [
    {
     "name": "stdout",
     "output_type": "stream",
     "text": [
      "[0]\ttrain-logloss:0.68317\ttest-logloss:0.70352\n",
      "[[109   4]\n",
      " [227  20]]\n",
      "precision: 0.8333333333333334\n"
     ]
    }
   ],
   "source": [
    "param = {\n",
    "    \"objective\": \"binary:logistic\",\n",
    "    \"learning_rate\": 0.3,\n",
    "    \"subsample\": 0.8,\n",
    "    \"max_depth\": 2,\n",
    "    'colsample_bytree': 1.0, # nie zmieniac\n",
    "    \"min_child_weight\": 0, # invariant\n",
    "    \"reg_lambda\": 0.9, # nie zmieniac\n",
    "    \"seed\": 0, # dziwne: wszystkie inne oprocz 0 daja ok 70%\n",
    "    \"nthread\" : 4,\n",
    "}\n",
    "num_round = 1\n",
    "\n",
    "clf = xgb.train(\n",
    "    param, xg_train, num_round, evals=watchlist, \n",
    "    #callbacks=[WandbCallback()]\n",
    ")\n",
    "\n",
    "y_pred = clf.predict(xg_test)\n",
    "y_pred = (y_pred>0.5).astype(int)\n",
    "\n",
    "cm=confusion_matrix(y_test, y_pred)\n",
    "print(cm)\n",
    "print(\"precision:\",cm[1][1]/(cm[0][1]+cm[1][1]))"
   ]
  },
  {
   "attachments": {},
   "cell_type": "markdown",
   "metadata": {},
   "source": [
    "### gbt"
   ]
  },
  {
   "cell_type": "code",
   "execution_count": 251,
   "metadata": {},
   "outputs": [
    {
     "name": "stdout",
     "output_type": "stream",
     "text": [
      "on train precision: 0.7518427518427518\n",
      "{'total_pos': 94, 'precision': 0.7659574468085106, 'quantity': 1.0, 'score': 0.7659574468085106}\n"
     ]
    },
    {
     "data": {
      "text/html": [
       "<div>\n",
       "<style scoped>\n",
       "    .dataframe tbody tr th:only-of-type {\n",
       "        vertical-align: middle;\n",
       "    }\n",
       "\n",
       "    .dataframe tbody tr th {\n",
       "        vertical-align: top;\n",
       "    }\n",
       "\n",
       "    .dataframe thead th {\n",
       "        text-align: right;\n",
       "    }\n",
       "</style>\n",
       "<table border=\"1\" class=\"dataframe\">\n",
       "  <thead>\n",
       "    <tr style=\"text-align: right;\">\n",
       "      <th></th>\n",
       "      <th>importance</th>\n",
       "    </tr>\n",
       "    <tr>\n",
       "      <th>feature</th>\n",
       "      <th></th>\n",
       "    </tr>\n",
       "  </thead>\n",
       "  <tbody>\n",
       "    <tr>\n",
       "      <th>on_earnings_volume</th>\n",
       "      <td>0.176045</td>\n",
       "    </tr>\n",
       "    <tr>\n",
       "      <th>on_earnings_close</th>\n",
       "      <td>0.164162</td>\n",
       "    </tr>\n",
       "    <tr>\n",
       "      <th>eps_est</th>\n",
       "      <td>0.153489</td>\n",
       "    </tr>\n",
       "    <tr>\n",
       "      <th>market_cap</th>\n",
       "      <td>0.138776</td>\n",
       "    </tr>\n",
       "    <tr>\n",
       "      <th>debt_to_debt</th>\n",
       "      <td>0.107270</td>\n",
       "    </tr>\n",
       "    <tr>\n",
       "      <th>eps_actual</th>\n",
       "      <td>0.085557</td>\n",
       "    </tr>\n",
       "    <tr>\n",
       "      <th>eps_diff_pct</th>\n",
       "      <td>0.062095</td>\n",
       "    </tr>\n",
       "    <tr>\n",
       "      <th>debt_to_cap</th>\n",
       "      <td>0.057139</td>\n",
       "    </tr>\n",
       "    <tr>\n",
       "      <th>eps_diff</th>\n",
       "      <td>0.055467</td>\n",
       "    </tr>\n",
       "  </tbody>\n",
       "</table>\n",
       "</div>"
      ],
      "text/plain": [
       "                    importance\n",
       "feature                       \n",
       "on_earnings_volume    0.176045\n",
       "on_earnings_close     0.164162\n",
       "eps_est               0.153489\n",
       "market_cap            0.138776\n",
       "debt_to_debt          0.107270\n",
       "eps_actual            0.085557\n",
       "eps_diff_pct          0.062095\n",
       "debt_to_cap           0.057139\n",
       "eps_diff              0.055467"
      ]
     },
     "execution_count": 251,
     "metadata": {},
     "output_type": "execute_result"
    }
   ],
   "source": [
    "clf = GradientBoostingClassifier(\n",
    "    learning_rate = 0.05, \n",
    "    n_estimators = 50, \n",
    "    subsample = .9,\n",
    "    random_state=7\n",
    ")\n",
    "\n",
    "clf.fit(X_train, y_train['tgt'])\n",
    "\n",
    "print(\"on train precision:\",precision_score(y_train.to_numpy()[:,0], clf.predict(X_train)))\n",
    "y_pred_proba = clf.predict_proba(X_test)\n",
    "y_pred = (y_pred_proba[:,1]>0.5).astype(int)\n",
    "\n",
    "cm = confusion_matrix(y_test.to_numpy()[:,0], y_pred)\n",
    "p  = precision_score(y_test.to_numpy()[:,0], y_pred)\n",
    "total_pos = cm[:,1].sum()\n",
    "min_trades_in_period = 50 #8\n",
    "quantity_score = min(total_pos/min_trades_in_period, 1.0) # have at least min_trades otherwise, fall hyperbolically\n",
    "SCORE = p * quantity_score # score to maximize: tradeoff between precision and quantity\n",
    "\n",
    "res = {\n",
    "    'total_pos': total_pos,\n",
    "    'precision': p,\n",
    "    'quantity' : quantity_score,\n",
    "    'score'    : SCORE\n",
    "}\n",
    "\n",
    "print(res)\n",
    "\n",
    "pd.DataFrame({'feature':X.columns.to_list(),'importance':clf.feature_importances_}).set_index('feature').sort_values(by='importance',ascending=False)\n"
   ]
  },
  {
   "cell_type": "code",
   "execution_count": 252,
   "metadata": {},
   "outputs": [
    {
     "data": {
      "text/plain": [
       "Text(0, 0.5, 'True Positive rate')"
      ]
     },
     "execution_count": 252,
     "metadata": {},
     "output_type": "execute_result"
    },
    {
     "data": {
      "image/png": "[encoded data removed]",
      "text/plain": [
       "<Figure size 576x396 with 1 Axes>"
      ]
     },
     "metadata": {},
     "output_type": "display_data"
    }
   ],
   "source": [
    "# ROC = AUC\n",
    "fpr1, tpr1, thresh1 = roc_curve(y_test, y_pred_proba[:,1], pos_label=1)\n",
    "auc_score = roc_auc_score(y_test, y_pred_proba[:,1])\n",
    "\n",
    "import matplotlib.pyplot as plt\n",
    "plt.style.use('seaborn')\n",
    "\n",
    "plt.plot(fpr1, tpr1, linestyle='--',color='orange')\n",
    "# title\n",
    "plt.title(f'ROC curve {auc_score}')\n",
    "# x label\n",
    "plt.xlabel('False Positive Rate')\n",
    "# y label\n",
    "plt.ylabel('True Positive rate')"
   ]
  },
  {
   "cell_type": "code",
   "execution_count": null,
   "metadata": {},
   "outputs": [],
   "source": []
  }
 ],
 "metadata": {
  "kernelspec": {
   "display_name": "Python 3",
   "language": "python",
   "name": "python3"
  },
  "language_info": {
   "codemirror_mode": {
    "name": "ipython",
    "version": 3
   },
   "file_extension": ".py",
   "mimetype": "text/x-python",
   "name": "python",
   "nbconvert_exporter": "python",
   "pygments_lexer": "ipython3",
   "version": "3.8.10"
  },
  "orig_nbformat": 4,
  "vscode": {
   "interpreter": {
    "hash": "916dbcbb3f70747c44a77c7bcd40155683ae19c65e1c03b4aa3499c5328201f1"
   }
  }
 },
 "nbformat": 4,
 "nbformat_minor": 2
}

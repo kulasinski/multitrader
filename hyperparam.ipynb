{
 "cells": [
  {
   "attachments": {},
   "cell_type": "markdown",
   "metadata": {},
   "source": [
    "# 5."
   ]
  },
  {
   "cell_type": "markdown",
   "metadata": {},
   "source": [
    "hyperparameter tuning with wandb on GBM"
   ]
  },
  {
   "cell_type": "code",
   "execution_count": 45,
   "metadata": {},
   "outputs": [],
   "source": [
    "import pandas as pd\n",
    "from sklearn.metrics import accuracy_score, precision_score, confusion_matrix, f1_score, recall_score, roc_curve, roc_auc_score, make_scorer\n",
    "from sklearn.model_selection import cross_val_score, cross_validate\n",
    "from sklearn.ensemble import GradientBoostingClassifier\n",
    "import numpy as np\n",
    "\n",
    "import wandb\n",
    "from wandb.sklearn import plot_precision_recall, plot_feature_importances\n",
    "from wandb.sklearn import plot_class_proportions, plot_learning_curve, plot_roc\n",
    "\n",
    "import optuna"
   ]
  },
  {
   "cell_type": "code",
   "execution_count": 2,
   "metadata": {},
   "outputs": [],
   "source": [
    "split_date = '2022-10-01'\n",
    "F = pd.read_csv('features.csv')\n",
    "\n",
    "X = F[['eps_est', 'eps_actual', 'eps_diff',\n",
    "       'eps_diff_pct', \n",
    "       #'tot_assets', 'common_stock', 'tot_cap', 'tot_debt',\n",
    "       #'net_debt', 'ord_shares', 'tot_reve', 'gross_profit', 'op_expense',\n",
    "       #'op_income', 'avg_shares', 'prev_eps_actual', 'prev_eps_diff',\n",
    "       #'expense_to_income',\n",
    "       #'eps_q_change', 'eps_q_change_pct',\n",
    "       #'assets_to_profit', 'profit_to_reve',\n",
    "       'debt_to_debt', 'debt_to_cap', \n",
    "       'on_earnings_close', 'on_earnings_volume', \n",
    "       'market_cap']]\n",
    "y = F[['tgt']]\n",
    "INFO = F[['ticker', 'earnings_date','history_start_date', 'history_end_date', 'price_min', 'price_max','tgt']]\n",
    "\n",
    "ndx_train = INFO[INFO.earnings_date< split_date].index.to_list()\n",
    "ndx_test  = INFO[INFO.earnings_date>=split_date].index.to_list()\n",
    "\n",
    "X_train,    X_test    = X.iloc[ndx_train],    X.iloc[ndx_test]\n",
    "y_train,    y_test    = y.iloc[ndx_train],    y.iloc[ndx_test]\n",
    "INFO_train, INFO_test = INFO.iloc[ndx_train], INFO.iloc[ndx_test]"
   ]
  },
  {
   "attachments": {},
   "cell_type": "markdown",
   "metadata": {},
   "source": [
    "## tuning"
   ]
  },
  {
   "cell_type": "code",
   "execution_count": 17,
   "metadata": {},
   "outputs": [],
   "source": [
    "config = {\n",
    "    'learning_rate' : 0.05, \n",
    "    'n_estimators' : 50, \n",
    "    'subsample' : .9,\n",
    "    'random_state':7\n",
    "}\n",
    "labels = ['loose','gain']"
   ]
  },
  {
   "cell_type": "code",
   "execution_count": 87,
   "metadata": {},
   "outputs": [
    {
     "name": "stderr",
     "output_type": "stream",
     "text": [
      "\u001b[32m[I 2023-01-24 14:53:44,035]\u001b[0m A new study created in RDB with name: no-name-5edcd759-4ca4-40e3-a29a-3f38ddc42d64\u001b[0m\n",
      "\u001b[32m[I 2023-01-24 14:53:45,558]\u001b[0m Trial 0 finished with value: 0.5553421841568393 and parameters: {'max_depth': 2, 'lr': 0.707590544407899, 'n_est': 25, 'subsample': 0.6861583185794491, 'loss': 'deviance', 'criterion': 'friedman_mse', 'THRESHOLD': 0.6771109591260235}. Best is trial 0 with value: 0.5553421841568393.\u001b[0m\n"
     ]
    },
    {
     "name": "stdout",
     "output_type": "stream",
     "text": [
      "precision 0.4992354939355578 npositive 73.5\n"
     ]
    },
    {
     "name": "stderr",
     "output_type": "stream",
     "text": [
      "\u001b[32m[I 2023-01-24 14:53:49,252]\u001b[0m Trial 1 finished with value: 0.545080408245454 and parameters: {'max_depth': 2, 'lr': 0.18994422285193782, 'n_est': 164, 'subsample': 0.995646146883112, 'loss': 'deviance', 'criterion': 'squared_error', 'THRESHOLD': 0.6056933291767496}. Best is trial 0 with value: 0.5553421841568393.\u001b[0m\n"
     ]
    },
    {
     "name": "stdout",
     "output_type": "stream",
     "text": [
      "precision 0.5167955975662376 npositive 69.875\n"
     ]
    },
    {
     "name": "stderr",
     "output_type": "stream",
     "text": [
      "\u001b[32m[I 2023-01-24 14:53:50,652]\u001b[0m Trial 2 finished with value: 0.5900568181818182 and parameters: {'max_depth': 1, 'lr': 0.7998347451249926, 'n_est': 21, 'subsample': 0.878205909313384, 'loss': 'deviance', 'criterion': 'friedman_mse', 'THRESHOLD': 0.6957091935392445}. Best is trial 2 with value: 0.5900568181818182.\u001b[0m\n"
     ]
    },
    {
     "name": "stdout",
     "output_type": "stream",
     "text": [
      "precision 0.5528632043120417 npositive 60.125\n"
     ]
    },
    {
     "name": "stderr",
     "output_type": "stream",
     "text": [
      "\u001b[32m[I 2023-01-24 14:53:52,629]\u001b[0m Trial 3 finished with value: 0.5420079029346172 and parameters: {'max_depth': 3, 'lr': 0.5031374711022764, 'n_est': 61, 'subsample': 0.6430426452624041, 'loss': 'exponential', 'criterion': 'friedman_mse', 'THRESHOLD': 0.7678229440169415}. Best is trial 2 with value: 0.5900568181818182.\u001b[0m\n"
     ]
    },
    {
     "name": "stdout",
     "output_type": "stream",
     "text": [
      "precision 0.5199592544140955 npositive 76.0\n"
     ]
    },
    {
     "name": "stderr",
     "output_type": "stream",
     "text": [
      "\u001b[32m[I 2023-01-24 14:53:53,895]\u001b[0m Trial 4 finished with value: 0.5507330827067669 and parameters: {'max_depth': 2, 'lr': 0.954160433033487, 'n_est': 19, 'subsample': 0.9809510589073587, 'loss': 'exponential', 'criterion': 'friedman_mse', 'THRESHOLD': 0.7802201743246283}. Best is trial 2 with value: 0.5900568181818182.\u001b[0m\n"
     ]
    },
    {
     "name": "stdout",
     "output_type": "stream",
     "text": [
      "precision 0.5080810694587103 npositive 72.25\n"
     ]
    },
    {
     "name": "stderr",
     "output_type": "stream",
     "text": [
      "\u001b[32m[I 2023-01-24 14:53:56,241]\u001b[0m Trial 5 finished with value: 0.5221331545438689 and parameters: {'max_depth': 3, 'lr': 0.6535066198728877, 'n_est': 59, 'subsample': 0.8656010699145491, 'loss': 'exponential', 'criterion': 'squared_error', 'THRESHOLD': 0.7867745456697772}. Best is trial 2 with value: 0.5900568181818182.\u001b[0m\n"
     ]
    },
    {
     "name": "stdout",
     "output_type": "stream",
     "text": [
      "precision 0.5104346415386767 npositive 78.125\n"
     ]
    },
    {
     "name": "stderr",
     "output_type": "stream",
     "text": [
      "\u001b[32m[I 2023-01-24 14:53:57,286]\u001b[0m Trial 6 finished with value: 0.5591127622377623 and parameters: {'max_depth': 2, 'lr': 0.46323665383333235, 'n_est': 15, 'subsample': 0.8795100039130994, 'loss': 'exponential', 'criterion': 'friedman_mse', 'THRESHOLD': 0.7475939754376036}. Best is trial 2 with value: 0.5900568181818182.\u001b[0m\n"
     ]
    },
    {
     "name": "stdout",
     "output_type": "stream",
     "text": [
      "precision 0.5320507108140461 npositive 59.25\n"
     ]
    },
    {
     "name": "stderr",
     "output_type": "stream",
     "text": [
      "\u001b[32m[I 2023-01-24 14:53:59,909]\u001b[0m Trial 7 finished with value: 0.5089054826057209 and parameters: {'max_depth': 3, 'lr': 0.6358877320938303, 'n_est': 47, 'subsample': 0.7038207835307697, 'loss': 'exponential', 'criterion': 'friedman_mse', 'THRESHOLD': 0.6075304011607867}. Best is trial 2 with value: 0.5900568181818182.\u001b[0m\n"
     ]
    },
    {
     "name": "stdout",
     "output_type": "stream",
     "text": [
      "precision 0.5084705042133505 npositive 75.625\n"
     ]
    },
    {
     "name": "stderr",
     "output_type": "stream",
     "text": [
      "\u001b[32m[I 2023-01-24 14:54:03,608]\u001b[0m Trial 8 finished with value: 0.4922032793115605 and parameters: {'max_depth': 3, 'lr': 0.8795236794105773, 'n_est': 143, 'subsample': 0.5641623242468382, 'loss': 'deviance', 'criterion': 'squared_error', 'THRESHOLD': 0.7317425267105964}. Best is trial 2 with value: 0.5900568181818182.\u001b[0m\n"
     ]
    },
    {
     "name": "stdout",
     "output_type": "stream",
     "text": [
      "precision 0.48818491901357064 npositive 79.5\n"
     ]
    },
    {
     "name": "stderr",
     "output_type": "stream",
     "text": [
      "\u001b[32m[I 2023-01-24 14:54:06,180]\u001b[0m Trial 9 finished with value: 0.5210626942783383 and parameters: {'max_depth': 2, 'lr': 0.40719562541390864, 'n_est': 110, 'subsample': 0.5882724315618062, 'loss': 'exponential', 'criterion': 'friedman_mse', 'THRESHOLD': 0.6747692199042349}. Best is trial 2 with value: 0.5900568181818182.\u001b[0m\n"
     ]
    },
    {
     "name": "stdout",
     "output_type": "stream",
     "text": [
      "precision 0.5067126842345109 npositive 75.5\n"
     ]
    },
    {
     "name": "stderr",
     "output_type": "stream",
     "text": [
      "\u001b[32m[I 2023-01-24 14:54:07,064]\u001b[0m Trial 10 finished with value: 0.5123834498834499 and parameters: {'max_depth': 1, 'lr': 0.8242008689271145, 'n_est': 10, 'subsample': 0.7903146340134574, 'loss': 'deviance', 'criterion': 'friedman_mse', 'THRESHOLD': 0.7107049920273152}. Best is trial 2 with value: 0.5900568181818182.\u001b[0m\n"
     ]
    },
    {
     "name": "stdout",
     "output_type": "stream",
     "text": [
      "precision 0.5196323267449272 npositive 61.625\n"
     ]
    },
    {
     "name": "stderr",
     "output_type": "stream",
     "text": [
      "\u001b[32m[I 2023-01-24 14:54:08,133]\u001b[0m Trial 11 finished with value: 0.421875 and parameters: {'max_depth': 1, 'lr': 0.42922192445988755, 'n_est': 19, 'subsample': 0.8661475733421283, 'loss': 'deviance', 'criterion': 'friedman_mse', 'THRESHOLD': 0.7425268254594597}. Best is trial 2 with value: 0.5900568181818182.\u001b[0m\n"
     ]
    },
    {
     "name": "stdout",
     "output_type": "stream",
     "text": [
      "precision 0.5596577419950897 npositive 53.25\n"
     ]
    },
    {
     "name": "stderr",
     "output_type": "stream",
     "text": [
      "\u001b[32m[I 2023-01-24 14:54:09,106]\u001b[0m Trial 12 finished with value: 0.617948717948718 and parameters: {'max_depth': 1, 'lr': 0.9952593905733873, 'n_est': 11, 'subsample': 0.8094307456312227, 'loss': 'deviance', 'criterion': 'friedman_mse', 'THRESHOLD': 0.7015911105665862}. Best is trial 12 with value: 0.617948717948718.\u001b[0m\n"
     ]
    },
    {
     "name": "stdout",
     "output_type": "stream",
     "text": [
      "precision 0.5178037623009767 npositive 59.625\n"
     ]
    },
    {
     "name": "stderr",
     "output_type": "stream",
     "text": [
      "\u001b[32m[I 2023-01-24 14:54:10,239]\u001b[0m Trial 13 finished with value: 0.5766098484848485 and parameters: {'max_depth': 1, 'lr': 0.9815445080096736, 'n_est': 10, 'subsample': 0.7775906004537847, 'loss': 'deviance', 'criterion': 'friedman_mse', 'THRESHOLD': 0.6897218303217288}. Best is trial 12 with value: 0.617948717948718.\u001b[0m\n"
     ]
    },
    {
     "name": "stdout",
     "output_type": "stream",
     "text": [
      "precision 0.5379056855743833 npositive 59.25\n"
     ]
    },
    {
     "name": "stderr",
     "output_type": "stream",
     "text": [
      "\u001b[32m[I 2023-01-24 14:54:11,527]\u001b[0m Trial 14 finished with value: 0.6073087247719601 and parameters: {'max_depth': 1, 'lr': 0.8160276350567057, 'n_est': 30, 'subsample': 0.8106829131465582, 'loss': 'deviance', 'criterion': 'friedman_mse', 'THRESHOLD': 0.6578654631608484}. Best is trial 12 with value: 0.617948717948718.\u001b[0m\n"
     ]
    },
    {
     "name": "stdout",
     "output_type": "stream",
     "text": [
      "precision 0.5264727844650887 npositive 62.375\n"
     ]
    },
    {
     "name": "stderr",
     "output_type": "stream",
     "text": [
      "\u001b[32m[I 2023-01-24 14:54:12,886]\u001b[0m Trial 15 finished with value: 0.6745122630992196 and parameters: {'max_depth': 1, 'lr': 0.9672099207103115, 'n_est': 33, 'subsample': 0.7516061298470986, 'loss': 'deviance', 'criterion': 'squared_error', 'THRESHOLD': 0.6518409737899449}. Best is trial 15 with value: 0.6745122630992196.\u001b[0m\n"
     ]
    },
    {
     "name": "stdout",
     "output_type": "stream",
     "text": [
      "precision 0.5258013150567461 npositive 69.25\n"
     ]
    },
    {
     "name": "stderr",
     "output_type": "stream",
     "text": [
      "\u001b[32m[I 2023-01-24 14:54:14,115]\u001b[0m Trial 16 finished with value: 0.5913999477035804 and parameters: {'max_depth': 1, 'lr': 0.9865054579003179, 'n_est': 33, 'subsample': 0.7331862808303562, 'loss': 'deviance', 'criterion': 'squared_error', 'THRESHOLD': 0.6441368138891599}. Best is trial 15 with value: 0.6745122630992196.\u001b[0m\n"
     ]
    },
    {
     "name": "stdout",
     "output_type": "stream",
     "text": [
      "precision 0.5294987303196004 npositive 71.375\n"
     ]
    },
    {
     "name": "stderr",
     "output_type": "stream",
     "text": [
      "\u001b[32m[I 2023-01-24 14:54:15,321]\u001b[0m Trial 17 finished with value: 0.6243778881936777 and parameters: {'max_depth': 1, 'lr': 0.8997516437620086, 'n_est': 14, 'subsample': 0.5271135634487356, 'loss': 'deviance', 'criterion': 'squared_error', 'THRESHOLD': 0.7148891913999995}. Best is trial 15 with value: 0.6745122630992196.\u001b[0m\n"
     ]
    },
    {
     "name": "stdout",
     "output_type": "stream",
     "text": [
      "precision 0.5105317656390104 npositive 60.25\n"
     ]
    },
    {
     "name": "stderr",
     "output_type": "stream",
     "text": [
      "\u001b[32m[I 2023-01-24 14:54:16,568]\u001b[0m Trial 18 finished with value: 0.5813988095238095 and parameters: {'max_depth': 1, 'lr': 0.8862568830413071, 'n_est': 15, 'subsample': 0.5090918810475288, 'loss': 'deviance', 'criterion': 'squared_error', 'THRESHOLD': 0.7214034397251514}. Best is trial 15 with value: 0.6745122630992196.\u001b[0m\n"
     ]
    },
    {
     "name": "stdout",
     "output_type": "stream",
     "text": [
      "precision 0.5283344669210328 npositive 60.5\n"
     ]
    },
    {
     "name": "stderr",
     "output_type": "stream",
     "text": [
      "\u001b[32m[I 2023-01-24 14:54:18,395]\u001b[0m Trial 19 finished with value: 0.5323982313582039 and parameters: {'max_depth': 2, 'lr': 0.7659712318103615, 'n_est': 41, 'subsample': 0.6380949026449763, 'loss': 'deviance', 'criterion': 'squared_error', 'THRESHOLD': 0.6317209120115664}. Best is trial 15 with value: 0.6745122630992196.\u001b[0m\n"
     ]
    },
    {
     "name": "stdout",
     "output_type": "stream",
     "text": [
      "precision 0.5085172716768793 npositive 70.125\n"
     ]
    },
    {
     "name": "stderr",
     "output_type": "stream",
     "text": [
      "\u001b[32m[I 2023-01-24 14:54:19,483]\u001b[0m Trial 20 finished with value: 0.6180457525566221 and parameters: {'max_depth': 1, 'lr': 0.8941435249776859, 'n_est': 27, 'subsample': 0.5214541908274316, 'loss': 'deviance', 'criterion': 'squared_error', 'THRESHOLD': 0.667786032063848}. Best is trial 15 with value: 0.6745122630992196.\u001b[0m\n"
     ]
    },
    {
     "name": "stdout",
     "output_type": "stream",
     "text": [
      "precision 0.5422382314041669 npositive 66.25\n"
     ]
    },
    {
     "name": "stderr",
     "output_type": "stream",
     "text": [
      "\u001b[32m[I 2023-01-24 14:54:20,686]\u001b[0m Trial 21 finished with value: 0.6393053821178821 and parameters: {'max_depth': 1, 'lr': 0.8848692078547507, 'n_est': 30, 'subsample': 0.5268925205130451, 'loss': 'deviance', 'criterion': 'squared_error', 'THRESHOLD': 0.6593326473083457}. Best is trial 15 with value: 0.6745122630992196.\u001b[0m\n"
     ]
    },
    {
     "name": "stdout",
     "output_type": "stream",
     "text": [
      "precision 0.5413787623191628 npositive 62.625\n"
     ]
    },
    {
     "name": "stderr",
     "output_type": "stream",
     "text": [
      "\u001b[32m[I 2023-01-24 14:54:21,989]\u001b[0m Trial 22 finished with value: 0.5910045974911704 and parameters: {'max_depth': 1, 'lr': 0.9026602839400464, 'n_est': 35, 'subsample': 0.5614534900642095, 'loss': 'deviance', 'criterion': 'squared_error', 'THRESHOLD': 0.6464918327266425}. Best is trial 15 with value: 0.6745122630992196.\u001b[0m\n"
     ]
    },
    {
     "name": "stdout",
     "output_type": "stream",
     "text": [
      "precision 0.5167352937012561 npositive 66.75\n"
     ]
    },
    {
     "name": "stderr",
     "output_type": "stream",
     "text": [
      "\u001b[32m[I 2023-01-24 14:54:23,085]\u001b[0m Trial 23 finished with value: 0.5620098039215686 and parameters: {'max_depth': 1, 'lr': 0.723332612987811, 'n_est': 24, 'subsample': 0.5110314707168799, 'loss': 'deviance', 'criterion': 'squared_error', 'THRESHOLD': 0.6900387388186762}. Best is trial 15 with value: 0.6745122630992196.\u001b[0m\n"
     ]
    },
    {
     "name": "stdout",
     "output_type": "stream",
     "text": [
      "precision 0.5288000154013659 npositive 65.875\n"
     ]
    },
    {
     "name": "stderr",
     "output_type": "stream",
     "text": [
      "\u001b[32m[I 2023-01-24 14:54:24,022]\u001b[0m Trial 24 finished with value: 0.5864176941479573 and parameters: {'max_depth': 1, 'lr': 0.8385375771709752, 'n_est': 15, 'subsample': 0.6242447031932463, 'loss': 'deviance', 'criterion': 'squared_error', 'THRESHOLD': 0.631034329219008}. Best is trial 15 with value: 0.6745122630992196.\u001b[0m\n"
     ]
    },
    {
     "name": "stdout",
     "output_type": "stream",
     "text": [
      "precision 0.5272362220288648 npositive 65.375\n"
     ]
    },
    {
     "name": "stderr",
     "output_type": "stream",
     "text": [
      "\u001b[32m[I 2023-01-24 14:54:25,408]\u001b[0m Trial 25 finished with value: 0.5454170281472913 and parameters: {'max_depth': 1, 'lr': 0.9140364154618921, 'n_est': 42, 'subsample': 0.5957100860758909, 'loss': 'deviance', 'criterion': 'squared_error', 'THRESHOLD': 0.7162161025234323}. Best is trial 15 with value: 0.6745122630992196.\u001b[0m\n"
     ]
    },
    {
     "name": "stdout",
     "output_type": "stream",
     "text": [
      "precision 0.49470805648590044 npositive 71.375\n"
     ]
    },
    {
     "name": "stderr",
     "output_type": "stream",
     "text": [
      "\u001b[32m[I 2023-01-24 14:54:26,898]\u001b[0m Trial 26 finished with value: 0.5026701422871525 and parameters: {'max_depth': 2, 'lr': 0.9376745702985729, 'n_est': 29, 'subsample': 0.6816999166755, 'loss': 'deviance', 'criterion': 'squared_error', 'THRESHOLD': 0.6615241150218429}. Best is trial 15 with value: 0.6745122630992196.\u001b[0m\n"
     ]
    },
    {
     "name": "stdout",
     "output_type": "stream",
     "text": [
      "precision 0.4976307610549803 npositive 76.0\n"
     ]
    },
    {
     "name": "stderr",
     "output_type": "stream",
     "text": [
      "\u001b[32m[I 2023-01-24 14:54:28,214]\u001b[0m Trial 27 finished with value: 0.5508207070707071 and parameters: {'max_depth': 1, 'lr': 0.7649956769247037, 'n_est': 21, 'subsample': 0.5445152704156498, 'loss': 'deviance', 'criterion': 'squared_error', 'THRESHOLD': 0.6835224287443838}. Best is trial 15 with value: 0.6745122630992196.\u001b[0m\n"
     ]
    },
    {
     "name": "stdout",
     "output_type": "stream",
     "text": [
      "precision 0.5243736858085747 npositive 63.75\n"
     ]
    },
    {
     "name": "stderr",
     "output_type": "stream",
     "text": [
      "\u001b[32m[I 2023-01-24 14:54:29,544]\u001b[0m Trial 28 finished with value: 0.6589617071524966 and parameters: {'max_depth': 1, 'lr': 0.8577901894704572, 'n_est': 12, 'subsample': 0.5472881247787323, 'loss': 'deviance', 'criterion': 'squared_error', 'THRESHOLD': 0.6719237537061833}. Best is trial 15 with value: 0.6745122630992196.\u001b[0m\n"
     ]
    },
    {
     "name": "stdout",
     "output_type": "stream",
     "text": [
      "precision 0.5381419349326264 npositive 65.625\n"
     ]
    },
    {
     "name": "stderr",
     "output_type": "stream",
     "text": [
      "\u001b[32m[I 2023-01-24 14:54:31,132]\u001b[0m Trial 29 finished with value: 0.5393380184010124 and parameters: {'max_depth': 2, 'lr': 0.6888214671764396, 'n_est': 25, 'subsample': 0.5029387794848631, 'loss': 'deviance', 'criterion': 'squared_error', 'THRESHOLD': 0.6757921709922162}. Best is trial 15 with value: 0.6745122630992196.\u001b[0m\n"
     ]
    },
    {
     "name": "stdout",
     "output_type": "stream",
     "text": [
      "precision 0.5393596347865478 npositive 66.0\n"
     ]
    },
    {
     "name": "stderr",
     "output_type": "stream",
     "text": [
      "\u001b[32m[I 2023-01-24 14:54:32,345]\u001b[0m Trial 30 finished with value: 0.5772865374219863 and parameters: {'max_depth': 2, 'lr': 0.8472011829936729, 'n_est': 12, 'subsample': 0.6770807426623112, 'loss': 'deviance', 'criterion': 'squared_error', 'THRESHOLD': 0.6789003732255617}. Best is trial 15 with value: 0.6745122630992196.\u001b[0m\n"
     ]
    },
    {
     "name": "stdout",
     "output_type": "stream",
     "text": [
      "precision 0.5469831352693837 npositive 63.0\n"
     ]
    },
    {
     "name": "stderr",
     "output_type": "stream",
     "text": [
      "\u001b[32m[I 2023-01-24 14:54:33,379]\u001b[0m Trial 31 finished with value: 0.6600490196078431 and parameters: {'max_depth': 1, 'lr': 0.9323625396122895, 'n_est': 14, 'subsample': 0.533999920977897, 'loss': 'deviance', 'criterion': 'squared_error', 'THRESHOLD': 0.6987210758337778}. Best is trial 15 with value: 0.6745122630992196.\u001b[0m\n"
     ]
    },
    {
     "name": "stdout",
     "output_type": "stream",
     "text": [
      "precision 0.5104076315076399 npositive 69.625\n"
     ]
    },
    {
     "name": "stderr",
     "output_type": "stream",
     "text": [
      "\u001b[32m[I 2023-01-24 14:54:34,623]\u001b[0m Trial 32 finished with value: 0.5188301282051282 and parameters: {'max_depth': 1, 'lr': 0.9991497687952481, 'n_est': 13, 'subsample': 0.5567777469162715, 'loss': 'deviance', 'criterion': 'squared_error', 'THRESHOLD': 0.6636639078595379}. Best is trial 15 with value: 0.6745122630992196.\u001b[0m\n"
     ]
    },
    {
     "name": "stdout",
     "output_type": "stream",
     "text": [
      "precision 0.5039325198176787 npositive 62.0\n"
     ]
    },
    {
     "name": "stderr",
     "output_type": "stream",
     "text": [
      "\u001b[32m[I 2023-01-24 14:54:35,930]\u001b[0m Trial 33 finished with value: 0.5674263134741075 and parameters: {'max_depth': 1, 'lr': 0.9396870007859471, 'n_est': 18, 'subsample': 0.5839995644324987, 'loss': 'deviance', 'criterion': 'squared_error', 'THRESHOLD': 0.6934061281479514}. Best is trial 15 with value: 0.6745122630992196.\u001b[0m\n"
     ]
    },
    {
     "name": "stdout",
     "output_type": "stream",
     "text": [
      "precision 0.5203250058271678 npositive 70.5\n"
     ]
    },
    {
     "name": "stderr",
     "output_type": "stream",
     "text": [
      "\u001b[32m[I 2023-01-24 14:54:36,918]\u001b[0m Trial 34 finished with value: 0.6772383866133866 and parameters: {'max_depth': 1, 'lr': 0.7769157196855094, 'n_est': 16, 'subsample': 0.6175255212009492, 'loss': 'deviance', 'criterion': 'squared_error', 'THRESHOLD': 0.701460280407555}. Best is trial 34 with value: 0.6772383866133866.\u001b[0m\n"
     ]
    },
    {
     "name": "stdout",
     "output_type": "stream",
     "text": [
      "precision 0.5371271098108713 npositive 64.625\n"
     ]
    },
    {
     "name": "stderr",
     "output_type": "stream",
     "text": [
      "\u001b[32m[I 2023-01-24 14:54:37,989]\u001b[0m Trial 35 finished with value: 0.5928307803307803 and parameters: {'max_depth': 1, 'lr': 0.7789688565443709, 'n_est': 16, 'subsample': 0.6062368281028676, 'loss': 'deviance', 'criterion': 'squared_error', 'THRESHOLD': 0.70285119970644}. Best is trial 34 with value: 0.6772383866133866.\u001b[0m\n"
     ]
    },
    {
     "name": "stdout",
     "output_type": "stream",
     "text": [
      "precision 0.5617380975313484 npositive 64.5\n"
     ]
    },
    {
     "name": "stderr",
     "output_type": "stream",
     "text": [
      "\u001b[32m[I 2023-01-24 14:54:39,219]\u001b[0m Trial 36 finished with value: 0.5038194444444444 and parameters: {'max_depth': 1, 'lr': 0.9534018247754409, 'n_est': 11, 'subsample': 0.6189683548028125, 'loss': 'exponential', 'criterion': 'squared_error', 'THRESHOLD': 0.6989706159683031}. Best is trial 34 with value: 0.6772383866133866.\u001b[0m\n"
     ]
    },
    {
     "name": "stdout",
     "output_type": "stream",
     "text": [
      "precision 0.5138497357111487 npositive 53.0\n"
     ]
    },
    {
     "name": "stderr",
     "output_type": "stream",
     "text": [
      "\u001b[32m[I 2023-01-24 14:54:40,254]\u001b[0m Trial 37 finished with value: 0.554896973497517 and parameters: {'max_depth': 2, 'lr': 0.8473819419140861, 'n_est': 12, 'subsample': 0.6428864739369704, 'loss': 'deviance', 'criterion': 'squared_error', 'THRESHOLD': 0.6785053571337502}. Best is trial 34 with value: 0.6772383866133866.\u001b[0m\n"
     ]
    },
    {
     "name": "stdout",
     "output_type": "stream",
     "text": [
      "precision 0.49211788071603335 npositive 64.25\n"
     ]
    },
    {
     "name": "stderr",
     "output_type": "stream",
     "text": [
      "\u001b[32m[I 2023-01-24 14:54:41,371]\u001b[0m Trial 38 finished with value: 0.640158371040724 and parameters: {'max_depth': 1, 'lr': 0.7920792110882735, 'n_est': 22, 'subsample': 0.6575207886998164, 'loss': 'exponential', 'criterion': 'squared_error', 'THRESHOLD': 0.6879417684043759}. Best is trial 34 with value: 0.6772383866133866.\u001b[0m\n"
     ]
    },
    {
     "name": "stdout",
     "output_type": "stream",
     "text": [
      "precision 0.5335267295033426 npositive 64.125\n"
     ]
    },
    {
     "name": "stderr",
     "output_type": "stream",
     "text": [
      "\u001b[32m[I 2023-01-24 14:54:42,737]\u001b[0m Trial 39 finished with value: 0.572257441971598 and parameters: {'max_depth': 2, 'lr': 0.9447760980595917, 'n_est': 18, 'subsample': 0.5786948692348788, 'loss': 'deviance', 'criterion': 'squared_error', 'THRESHOLD': 0.7028026377037438}. Best is trial 34 with value: 0.6772383866133866.\u001b[0m\n"
     ]
    },
    {
     "name": "stdout",
     "output_type": "stream",
     "text": [
      "precision 0.5142533247038673 npositive 73.625\n"
     ]
    },
    {
     "name": "stderr",
     "output_type": "stream",
     "text": [
      "\u001b[32m[I 2023-01-24 14:54:43,783]\u001b[0m Trial 40 finished with value: 0.5596590909090909 and parameters: {'max_depth': 1, 'lr': 0.7390043799377821, 'n_est': 13, 'subsample': 0.7058539457882249, 'loss': 'exponential', 'criterion': 'squared_error', 'THRESHOLD': 0.7296731925321014}. Best is trial 34 with value: 0.6772383866133866.\u001b[0m\n"
     ]
    },
    {
     "name": "stdout",
     "output_type": "stream",
     "text": [
      "precision 0.5417066652674061 npositive 57.125\n"
     ]
    },
    {
     "name": "stderr",
     "output_type": "stream",
     "text": [
      "\u001b[32m[I 2023-01-24 14:54:44,990]\u001b[0m Trial 41 finished with value: 0.6275124498179838 and parameters: {'max_depth': 1, 'lr': 0.8147254925379127, 'n_est': 22, 'subsample': 0.5476439046437611, 'loss': 'exponential', 'criterion': 'squared_error', 'THRESHOLD': 0.6882713700124975}. Best is trial 34 with value: 0.6772383866133866.\u001b[0m\n"
     ]
    },
    {
     "name": "stdout",
     "output_type": "stream",
     "text": [
      "precision 0.5021682716611624 npositive 62.5\n"
     ]
    },
    {
     "name": "stderr",
     "output_type": "stream",
     "text": [
      "\u001b[32m[I 2023-01-24 14:54:46,156]\u001b[0m Trial 42 finished with value: 0.515625 and parameters: {'max_depth': 1, 'lr': 0.6111010433431556, 'n_est': 16, 'subsample': 0.6672141992804206, 'loss': 'exponential', 'criterion': 'squared_error', 'THRESHOLD': 0.7991896997421333}. Best is trial 34 with value: 0.6772383866133866.\u001b[0m\n"
     ]
    },
    {
     "name": "stdout",
     "output_type": "stream",
     "text": [
      "precision 0.5311174539010453 npositive 59.75\n"
     ]
    },
    {
     "name": "stderr",
     "output_type": "stream",
     "text": [
      "\u001b[32m[I 2023-01-24 14:54:47,261]\u001b[0m Trial 43 finished with value: 0.5450757575757575 and parameters: {'max_depth': 1, 'lr': 0.798757409634012, 'n_est': 22, 'subsample': 0.6085015902659766, 'loss': 'exponential', 'criterion': 'squared_error', 'THRESHOLD': 0.670065271423164}. Best is trial 34 with value: 0.6772383866133866.\u001b[0m\n"
     ]
    },
    {
     "name": "stdout",
     "output_type": "stream",
     "text": [
      "precision 0.5210599240933753 npositive 61.625\n"
     ]
    },
    {
     "name": "stderr",
     "output_type": "stream",
     "text": [
      "\u001b[32m[I 2023-01-24 14:54:48,399]\u001b[0m Trial 44 finished with value: 0.6214277960601491 and parameters: {'max_depth': 1, 'lr': 0.8574205313219166, 'n_est': 17, 'subsample': 0.5731434411488127, 'loss': 'exponential', 'criterion': 'squared_error', 'THRESHOLD': 0.680913493262512}. Best is trial 34 with value: 0.6772383866133866.\u001b[0m\n"
     ]
    },
    {
     "name": "stdout",
     "output_type": "stream",
     "text": [
      "precision 0.5158752224280307 npositive 61.375\n"
     ]
    },
    {
     "name": "stderr",
     "output_type": "stream",
     "text": [
      "\u001b[32m[I 2023-01-24 14:54:49,771]\u001b[0m Trial 45 finished with value: 0.5436711895711055 and parameters: {'max_depth': 3, 'lr': 0.682671205628048, 'n_est': 19, 'subsample': 0.6514333158787377, 'loss': 'exponential', 'criterion': 'squared_error', 'THRESHOLD': 0.7094494336051734}. Best is trial 34 with value: 0.6772383866133866.\u001b[0m\n"
     ]
    },
    {
     "name": "stdout",
     "output_type": "stream",
     "text": [
      "precision 0.49776780414801247 npositive 73.875\n"
     ]
    },
    {
     "name": "stderr",
     "output_type": "stream",
     "text": [
      "\u001b[32m[I 2023-01-24 14:54:50,871]\u001b[0m Trial 46 finished with value: 0.5629734848484849 and parameters: {'max_depth': 1, 'lr': 0.7342429240314642, 'n_est': 14, 'subsample': 0.5912143557176139, 'loss': 'exponential', 'criterion': 'squared_error', 'THRESHOLD': 0.692411724296611}. Best is trial 34 with value: 0.6772383866133866.\u001b[0m\n"
     ]
    },
    {
     "name": "stdout",
     "output_type": "stream",
     "text": [
      "precision 0.5332262949039265 npositive 64.875\n"
     ]
    },
    {
     "name": "stderr",
     "output_type": "stream",
     "text": [
      "\u001b[32m[I 2023-01-24 14:54:51,911]\u001b[0m Trial 47 finished with value: 0.6065972222222222 and parameters: {'max_depth': 1, 'lr': 0.793211574557603, 'n_est': 10, 'subsample': 0.5427629057112604, 'loss': 'deviance', 'criterion': 'squared_error', 'THRESHOLD': 0.6849019753761767}. Best is trial 34 with value: 0.6772383866133866.\u001b[0m\n"
     ]
    },
    {
     "name": "stdout",
     "output_type": "stream",
     "text": [
      "precision 0.5272723490706652 npositive 59.625\n"
     ]
    },
    {
     "name": "stderr",
     "output_type": "stream",
     "text": [
      "\u001b[32m[I 2023-01-24 14:54:53,129]\u001b[0m Trial 48 finished with value: 0.5566458674624309 and parameters: {'max_depth': 1, 'lr': 0.8665804781198369, 'n_est': 25, 'subsample': 0.6183070171486761, 'loss': 'exponential', 'criterion': 'friedman_mse', 'THRESHOLD': 0.6705491796509561}. Best is trial 34 with value: 0.6772383866133866.\u001b[0m\n"
     ]
    },
    {
     "name": "stdout",
     "output_type": "stream",
     "text": [
      "precision 0.5153289508481176 npositive 67.25\n"
     ]
    },
    {
     "name": "stderr",
     "output_type": "stream",
     "text": [
      "\u001b[32m[I 2023-01-24 14:54:54,256]\u001b[0m Trial 49 finished with value: 0.5937971020207862 and parameters: {'max_depth': 1, 'lr': 0.9734343724712627, 'n_est': 20, 'subsample': 0.7139793831701241, 'loss': 'deviance', 'criterion': 'squared_error', 'THRESHOLD': 0.696654452817021}. Best is trial 34 with value: 0.6772383866133866.\u001b[0m\n"
     ]
    },
    {
     "name": "stdout",
     "output_type": "stream",
     "text": [
      "precision 0.5284935319311614 npositive 65.25\n"
     ]
    },
    {
     "name": "stderr",
     "output_type": "stream",
     "text": [
      "\u001b[32m[I 2023-01-24 14:54:55,633]\u001b[0m Trial 50 finished with value: 0.5481318645664721 and parameters: {'max_depth': 2, 'lr': 0.9094032517593518, 'n_est': 18, 'subsample': 0.6619867154367467, 'loss': 'deviance', 'criterion': 'squared_error', 'THRESHOLD': 0.7057233112483612}. Best is trial 34 with value: 0.6772383866133866.\u001b[0m\n"
     ]
    },
    {
     "name": "stdout",
     "output_type": "stream",
     "text": [
      "precision 0.5029427852134983 npositive 75.75\n"
     ]
    },
    {
     "name": "stderr",
     "output_type": "stream",
     "text": [
      "\u001b[32m[I 2023-01-24 14:54:57,413]\u001b[0m Trial 51 finished with value: 0.536955691367456 and parameters: {'max_depth': 1, 'lr': 0.929254401035878, 'n_est': 33, 'subsample': 0.5677116679112125, 'loss': 'deviance', 'criterion': 'squared_error', 'THRESHOLD': 0.6542773693895768}. Best is trial 34 with value: 0.6772383866133866.\u001b[0m\n"
     ]
    },
    {
     "name": "stdout",
     "output_type": "stream",
     "text": [
      "precision 0.5270247634927236 npositive 67.0\n"
     ]
    },
    {
     "name": "stderr",
     "output_type": "stream",
     "text": [
      "\u001b[32m[I 2023-01-24 14:54:58,556]\u001b[0m Trial 52 finished with value: 0.6268125192660796 and parameters: {'max_depth': 1, 'lr': 0.8623389999215408, 'n_est': 21, 'subsample': 0.5361637149501128, 'loss': 'deviance', 'criterion': 'squared_error', 'THRESHOLD': 0.6730351648943894}. Best is trial 34 with value: 0.6772383866133866.\u001b[0m\n"
     ]
    },
    {
     "name": "stdout",
     "output_type": "stream",
     "text": [
      "precision 0.5301007924519228 npositive 65.25\n"
     ]
    },
    {
     "name": "stderr",
     "output_type": "stream",
     "text": [
      "\u001b[32m[I 2023-01-24 14:54:59,783]\u001b[0m Trial 53 finished with value: 0.5820701357466063 and parameters: {'max_depth': 1, 'lr': 0.82237317218524, 'n_est': 29, 'subsample': 0.5282256820389131, 'loss': 'deviance', 'criterion': 'squared_error', 'THRESHOLD': 0.6546783409177844}. Best is trial 34 with value: 0.6772383866133866.\u001b[0m\n"
     ]
    },
    {
     "name": "stdout",
     "output_type": "stream",
     "text": [
      "precision 0.5402820599658751 npositive 69.5\n"
     ]
    },
    {
     "name": "stderr",
     "output_type": "stream",
     "text": [
      "\u001b[32m[I 2023-01-24 14:55:00,902]\u001b[0m Trial 54 finished with value: 0.6036815767973855 and parameters: {'max_depth': 1, 'lr': 0.8924021981725301, 'n_est': 23, 'subsample': 0.5180376356895965, 'loss': 'deviance', 'criterion': 'squared_error', 'THRESHOLD': 0.6639083814677278}. Best is trial 34 with value: 0.6772383866133866.\u001b[0m\n"
     ]
    },
    {
     "name": "stdout",
     "output_type": "stream",
     "text": [
      "precision 0.5267568559591167 npositive 68.125\n"
     ]
    },
    {
     "name": "stderr",
     "output_type": "stream",
     "text": [
      "\u001b[32m[I 2023-01-24 14:55:02,121]\u001b[0m Trial 55 finished with value: 0.6064485131096973 and parameters: {'max_depth': 1, 'lr': 0.8772688307315785, 'n_est': 26, 'subsample': 0.5585006520920117, 'loss': 'deviance', 'criterion': 'friedman_mse', 'THRESHOLD': 0.6864305038640938}. Best is trial 34 with value: 0.6772383866133866.\u001b[0m\n"
     ]
    },
    {
     "name": "stdout",
     "output_type": "stream",
     "text": [
      "precision 0.5153207113144269 npositive 68.25\n"
     ]
    },
    {
     "name": "stderr",
     "output_type": "stream",
     "text": [
      "\u001b[32m[I 2023-01-24 14:55:03,623]\u001b[0m Trial 56 finished with value: 0.5845923136461062 and parameters: {'max_depth': 1, 'lr': 0.9560002445402059, 'n_est': 37, 'subsample': 0.7520999056592701, 'loss': 'deviance', 'criterion': 'squared_error', 'THRESHOLD': 0.6990302941581292}. Best is trial 34 with value: 0.6772383866133866.\u001b[0m\n"
     ]
    },
    {
     "name": "stdout",
     "output_type": "stream",
     "text": [
      "precision 0.5248583640868758 npositive 66.625\n"
     ]
    },
    {
     "name": "stderr",
     "output_type": "stream",
     "text": [
      "\u001b[32m[I 2023-01-24 14:55:04,858]\u001b[0m Trial 57 finished with value: 0.5258930877549635 and parameters: {'max_depth': 3, 'lr': 0.925109212441192, 'n_est': 16, 'subsample': 0.5248776639852224, 'loss': 'deviance', 'criterion': 'squared_error', 'THRESHOLD': 0.711784080963728}. Best is trial 34 with value: 0.6772383866133866.\u001b[0m\n"
     ]
    },
    {
     "name": "stdout",
     "output_type": "stream",
     "text": [
      "precision 0.5016649234423991 npositive 79.0\n"
     ]
    },
    {
     "name": "stderr",
     "output_type": "stream",
     "text": [
      "\u001b[32m[I 2023-01-24 14:55:05,956]\u001b[0m Trial 58 finished with value: 0.6318181818181818 and parameters: {'max_depth': 1, 'lr': 0.7575875054761904, 'n_est': 14, 'subsample': 0.5987065765159788, 'loss': 'deviance', 'criterion': 'squared_error', 'THRESHOLD': 0.6756475925511423}. Best is trial 34 with value: 0.6772383866133866.\u001b[0m\n"
     ]
    },
    {
     "name": "stdout",
     "output_type": "stream",
     "text": [
      "precision 0.508344911561512 npositive 66.0\n"
     ]
    },
    {
     "name": "stderr",
     "output_type": "stream",
     "text": [
      "\u001b[32m[I 2023-01-24 14:55:07,216]\u001b[0m Trial 59 finished with value: 0.5637155671985393 and parameters: {'max_depth': 1, 'lr': 0.8243847885288244, 'n_est': 29, 'subsample': 0.5018494540978692, 'loss': 'exponential', 'criterion': 'friedman_mse', 'THRESHOLD': 0.6479447628915738}. Best is trial 34 with value: 0.6772383866133866.\u001b[0m\n"
     ]
    },
    {
     "name": "stdout",
     "output_type": "stream",
     "text": [
      "precision 0.5103883581736729 npositive 66.875\n"
     ]
    },
    {
     "name": "stderr",
     "output_type": "stream",
     "text": [
      "\u001b[32m[I 2023-01-24 14:55:08,751]\u001b[0m Trial 60 finished with value: 0.5809105194497154 and parameters: {'max_depth': 1, 'lr': 0.9728333421795989, 'n_est': 55, 'subsample': 0.6331643490169194, 'loss': 'deviance', 'criterion': 'squared_error', 'THRESHOLD': 0.665605245071114}. Best is trial 34 with value: 0.6772383866133866.\u001b[0m\n"
     ]
    },
    {
     "name": "stdout",
     "output_type": "stream",
     "text": [
      "precision 0.5291901135440231 npositive 73.0\n"
     ]
    },
    {
     "name": "stderr",
     "output_type": "stream",
     "text": [
      "\u001b[32m[I 2023-01-24 14:55:09,839]\u001b[0m Trial 61 finished with value: 0.5648268398268398 and parameters: {'max_depth': 1, 'lr': 0.7593776122991036, 'n_est': 14, 'subsample': 0.5694237626702613, 'loss': 'deviance', 'criterion': 'squared_error', 'THRESHOLD': 0.6771441091716676}. Best is trial 34 with value: 0.6772383866133866.\u001b[0m\n"
     ]
    },
    {
     "name": "stdout",
     "output_type": "stream",
     "text": [
      "precision 0.5521418509968001 npositive 64.5\n"
     ]
    },
    {
     "name": "stderr",
     "output_type": "stream",
     "text": [
      "\u001b[32m[I 2023-01-24 14:55:10,993]\u001b[0m Trial 62 finished with value: 0.5246026440879383 and parameters: {'max_depth': 1, 'lr': 0.8024397310409546, 'n_est': 12, 'subsample': 0.5485914797277571, 'loss': 'deviance', 'criterion': 'squared_error', 'THRESHOLD': 0.6831646745932596}. Best is trial 34 with value: 0.6772383866133866.\u001b[0m\n"
     ]
    },
    {
     "name": "stdout",
     "output_type": "stream",
     "text": [
      "precision 0.5345739528788629 npositive 59.625\n"
     ]
    },
    {
     "name": "stderr",
     "output_type": "stream",
     "text": [
      "\u001b[32m[I 2023-01-24 14:55:11,966]\u001b[0m Trial 63 finished with value: 0.5576388888888889 and parameters: {'max_depth': 1, 'lr': 0.8836630642419576, 'n_est': 11, 'subsample': 0.5938753583263913, 'loss': 'deviance', 'criterion': 'squared_error', 'THRESHOLD': 0.6930082419769868}. Best is trial 34 with value: 0.6772383866133866.\u001b[0m\n"
     ]
    },
    {
     "name": "stdout",
     "output_type": "stream",
     "text": [
      "precision 0.5311667782941172 npositive 69.375\n"
     ]
    },
    {
     "name": "stderr",
     "output_type": "stream",
     "text": [
      "\u001b[32m[I 2023-01-24 14:55:13,162]\u001b[0m Trial 64 finished with value: 0.6170364357864357 and parameters: {'max_depth': 1, 'lr': 0.7690942271978857, 'n_est': 19, 'subsample': 0.60266652524387, 'loss': 'deviance', 'criterion': 'squared_error', 'THRESHOLD': 0.6704051750236478}. Best is trial 34 with value: 0.6772383866133866.\u001b[0m\n"
     ]
    },
    {
     "name": "stdout",
     "output_type": "stream",
     "text": [
      "precision 0.5353470541741564 npositive 67.0\n"
     ]
    },
    {
     "name": "stderr",
     "output_type": "stream",
     "text": [
      "\u001b[32m[I 2023-01-24 14:55:14,382]\u001b[0m Trial 65 finished with value: 0.6449720418470418 and parameters: {'max_depth': 1, 'lr': 0.8498557357112259, 'n_est': 15, 'subsample': 0.5770688481839427, 'loss': 'deviance', 'criterion': 'squared_error', 'THRESHOLD': 0.6597103040435225}. Best is trial 34 with value: 0.6772383866133866.\u001b[0m\n"
     ]
    },
    {
     "name": "stdout",
     "output_type": "stream",
     "text": [
      "precision 0.5260652989767921 npositive 68.75\n"
     ]
    },
    {
     "name": "stderr",
     "output_type": "stream",
     "text": [
      "\u001b[32m[I 2023-01-24 14:55:15,528]\u001b[0m Trial 66 finished with value: 0.5809834276266501 and parameters: {'max_depth': 1, 'lr': 0.8386350626990946, 'n_est': 16, 'subsample': 0.5807084943565287, 'loss': 'deviance', 'criterion': 'squared_error', 'THRESHOLD': 0.6414851378371326}. Best is trial 34 with value: 0.6772383866133866.\u001b[0m\n"
     ]
    },
    {
     "name": "stdout",
     "output_type": "stream",
     "text": [
      "precision 0.5496903505244204 npositive 63.0\n"
     ]
    },
    {
     "name": "stderr",
     "output_type": "stream",
     "text": [
      "\u001b[32m[I 2023-01-24 14:55:17,046]\u001b[0m Trial 67 finished with value: 0.5824328298513082 and parameters: {'max_depth': 1, 'lr': 0.9095754744742897, 'n_est': 23, 'subsample': 0.532699548670848, 'loss': 'deviance', 'criterion': 'squared_error', 'THRESHOLD': 0.6561620488960951}. Best is trial 34 with value: 0.6772383866133866.\u001b[0m\n"
     ]
    },
    {
     "name": "stdout",
     "output_type": "stream",
     "text": [
      "precision 0.5046322996435764 npositive 60.5\n"
     ]
    },
    {
     "name": "stderr",
     "output_type": "stream",
     "text": [
      "\u001b[32m[I 2023-01-24 14:55:18,337]\u001b[0m Trial 68 finished with value: 0.5715920818088001 and parameters: {'max_depth': 1, 'lr': 0.9708354840397395, 'n_est': 27, 'subsample': 0.5565693442493113, 'loss': 'deviance', 'criterion': 'squared_error', 'THRESHOLD': 0.6581502305509404}. Best is trial 34 with value: 0.6772383866133866.\u001b[0m\n"
     ]
    },
    {
     "name": "stdout",
     "output_type": "stream",
     "text": [
      "precision 0.5164055083257386 npositive 64.25\n"
     ]
    },
    {
     "name": "stderr",
     "output_type": "stream",
     "text": [
      "\u001b[32m[I 2023-01-24 14:55:19,636]\u001b[0m Trial 69 finished with value: 0.5779051830522419 and parameters: {'max_depth': 1, 'lr': 0.8742353943519336, 'n_est': 32, 'subsample': 0.5179971034693261, 'loss': 'deviance', 'criterion': 'friedman_mse', 'THRESHOLD': 0.6648527979767358}. Best is trial 34 with value: 0.6772383866133866.\u001b[0m\n"
     ]
    },
    {
     "name": "stdout",
     "output_type": "stream",
     "text": [
      "precision 0.511562395158505 npositive 69.625\n"
     ]
    },
    {
     "name": "stderr",
     "output_type": "stream",
     "text": [
      "\u001b[32m[I 2023-01-24 14:55:21,104]\u001b[0m Trial 70 finished with value: 0.6353455943781021 and parameters: {'max_depth': 1, 'lr': 0.9214664547320818, 'n_est': 38, 'subsample': 0.6914166081666221, 'loss': 'deviance', 'criterion': 'squared_error', 'THRESHOLD': 0.7190184225255584}. Best is trial 34 with value: 0.6772383866133866.\u001b[0m\n"
     ]
    },
    {
     "name": "stdout",
     "output_type": "stream",
     "text": [
      "precision 0.5267595196068049 npositive 70.75\n"
     ]
    },
    {
     "name": "stderr",
     "output_type": "stream",
     "text": [
      "\u001b[32m[I 2023-01-24 14:55:22,769]\u001b[0m Trial 71 finished with value: 0.5453187195931004 and parameters: {'max_depth': 1, 'lr': 0.9241380853514265, 'n_est': 38, 'subsample': 0.6823274051235203, 'loss': 'deviance', 'criterion': 'squared_error', 'THRESHOLD': 0.725157838258193}. Best is trial 34 with value: 0.6772383866133866.\u001b[0m\n"
     ]
    },
    {
     "name": "stdout",
     "output_type": "stream",
     "text": [
      "precision 0.5055060037230128 npositive 73.125\n"
     ]
    },
    {
     "name": "stderr",
     "output_type": "stream",
     "text": [
      "\u001b[32m[I 2023-01-24 14:55:24,359]\u001b[0m Trial 72 finished with value: 0.6410401281724811 and parameters: {'max_depth': 1, 'lr': 0.8998809247899672, 'n_est': 41, 'subsample': 0.6312044779185086, 'loss': 'deviance', 'criterion': 'squared_error', 'THRESHOLD': 0.7152204644603736}. Best is trial 34 with value: 0.6772383866133866.\u001b[0m\n"
     ]
    },
    {
     "name": "stdout",
     "output_type": "stream",
     "text": [
      "precision 0.5372337727082558 npositive 67.5\n"
     ]
    },
    {
     "name": "stderr",
     "output_type": "stream",
     "text": [
      "\u001b[32m[I 2023-01-24 14:55:25,700]\u001b[0m Trial 73 finished with value: 0.5519116576861142 and parameters: {'max_depth': 1, 'lr': 0.8501715380782284, 'n_est': 45, 'subsample': 0.6325460364566252, 'loss': 'deviance', 'criterion': 'squared_error', 'THRESHOLD': 0.7073655165418415}. Best is trial 34 with value: 0.6772383866133866.\u001b[0m\n"
     ]
    },
    {
     "name": "stdout",
     "output_type": "stream",
     "text": [
      "precision 0.5261558612933093 npositive 70.375\n"
     ]
    },
    {
     "name": "stderr",
     "output_type": "stream",
     "text": [
      "\u001b[32m[I 2023-01-24 14:55:27,168]\u001b[0m Trial 74 finished with value: 0.5583030110647602 and parameters: {'max_depth': 1, 'lr': 0.994968050403587, 'n_est': 50, 'subsample': 0.5807409890753803, 'loss': 'deviance', 'criterion': 'squared_error', 'THRESHOLD': 0.6955102716309345}. Best is trial 34 with value: 0.6772383866133866.\u001b[0m\n"
     ]
    },
    {
     "name": "stdout",
     "output_type": "stream",
     "text": [
      "precision 0.5018555522464414 npositive 71.0\n"
     ]
    },
    {
     "name": "stderr",
     "output_type": "stream",
     "text": [
      "\u001b[32m[I 2023-01-24 14:55:28,718]\u001b[0m Trial 75 finished with value: 0.605974229755423 and parameters: {'max_depth': 1, 'lr': 0.8871234717445844, 'n_est': 42, 'subsample': 0.6537253380848854, 'loss': 'deviance', 'criterion': 'squared_error', 'THRESHOLD': 0.687642921055341}. Best is trial 34 with value: 0.6772383866133866.\u001b[0m\n"
     ]
    },
    {
     "name": "stdout",
     "output_type": "stream",
     "text": [
      "precision 0.5134029812459322 npositive 73.25\n"
     ]
    },
    {
     "name": "stderr",
     "output_type": "stream",
     "text": [
      "\u001b[32m[I 2023-01-24 14:55:29,872]\u001b[0m Trial 76 finished with value: 0.5671182983682983 and parameters: {'max_depth': 1, 'lr': 0.9596205629875325, 'n_est': 20, 'subsample': 0.615145994015073, 'loss': 'exponential', 'criterion': 'squared_error', 'THRESHOLD': 0.7153209213940998}. Best is trial 34 with value: 0.6772383866133866.\u001b[0m\n"
     ]
    },
    {
     "name": "stdout",
     "output_type": "stream",
     "text": [
      "precision 0.5541993674854824 npositive 68.375\n"
     ]
    },
    {
     "name": "stderr",
     "output_type": "stream",
     "text": [
      "\u001b[32m[I 2023-01-24 14:55:31,165]\u001b[0m Trial 77 finished with value: 0.5888712757830404 and parameters: {'max_depth': 1, 'lr': 0.7927836660975074, 'n_est': 32, 'subsample': 0.5483881261178102, 'loss': 'deviance', 'criterion': 'squared_error', 'THRESHOLD': 0.6809146221099638}. Best is trial 34 with value: 0.6772383866133866.\u001b[0m\n"
     ]
    },
    {
     "name": "stdout",
     "output_type": "stream",
     "text": [
      "precision 0.5111997707426097 npositive 70.375\n"
     ]
    },
    {
     "name": "stderr",
     "output_type": "stream",
     "text": [
      "\u001b[32m[I 2023-01-24 14:55:32,308]\u001b[0m Trial 78 finished with value: 0.7088760198135198 and parameters: {'max_depth': 1, 'lr': 0.8316516913375693, 'n_est': 13, 'subsample': 0.5683471085944433, 'loss': 'deviance', 'criterion': 'squared_error', 'THRESHOLD': 0.7070798477604443}. Best is trial 78 with value: 0.7088760198135198.\u001b[0m\n"
     ]
    },
    {
     "name": "stdout",
     "output_type": "stream",
     "text": [
      "precision 0.5381648675655906 npositive 62.25\n"
     ]
    },
    {
     "name": "stderr",
     "output_type": "stream",
     "text": [
      "\u001b[32m[I 2023-01-24 14:55:33,352]\u001b[0m Trial 79 finished with value: 0.5277299820062978 and parameters: {'max_depth': 1, 'lr': 0.8232384356508488, 'n_est': 13, 'subsample': 0.6251757307854688, 'loss': 'deviance', 'criterion': 'squared_error', 'THRESHOLD': 0.705130936459896}. Best is trial 78 with value: 0.7088760198135198.\u001b[0m\n"
     ]
    },
    {
     "name": "stdout",
     "output_type": "stream",
     "text": [
      "precision 0.5141993091531029 npositive 66.375\n"
     ]
    },
    {
     "name": "stderr",
     "output_type": "stream",
     "text": [
      "\u001b[32m[I 2023-01-24 14:55:34,564]\u001b[0m Trial 80 finished with value: 0.5155181623931624 and parameters: {'max_depth': 1, 'lr': 0.712450270100486, 'n_est': 15, 'subsample': 0.6042705206505483, 'loss': 'exponential', 'criterion': 'squared_error', 'THRESHOLD': 0.7130489066375457}. Best is trial 78 with value: 0.7088760198135198.\u001b[0m\n"
     ]
    },
    {
     "name": "stdout",
     "output_type": "stream",
     "text": [
      "precision 0.5870237269084564 npositive 51.875\n"
     ]
    },
    {
     "name": "stderr",
     "output_type": "stream",
     "text": [
      "\u001b[32m[I 2023-01-24 14:55:35,663]\u001b[0m Trial 81 finished with value: 0.6432291666666666 and parameters: {'max_depth': 1, 'lr': 0.8550858436824625, 'n_est': 17, 'subsample': 0.565980622281824, 'loss': 'deviance', 'criterion': 'squared_error', 'THRESHOLD': 0.7008363243734718}. Best is trial 78 with value: 0.7088760198135198.\u001b[0m\n"
     ]
    },
    {
     "name": "stdout",
     "output_type": "stream",
     "text": [
      "precision 0.5348897101309977 npositive 66.875\n"
     ]
    },
    {
     "name": "stderr",
     "output_type": "stream",
     "text": [
      "\u001b[32m[I 2023-01-24 14:55:36,700]\u001b[0m Trial 82 finished with value: 0.6239583333333334 and parameters: {'max_depth': 1, 'lr': 0.8596285852638905, 'n_est': 11, 'subsample': 0.5685230103594597, 'loss': 'deviance', 'criterion': 'squared_error', 'THRESHOLD': 0.7077936816741855}. Best is trial 78 with value: 0.7088760198135198.\u001b[0m\n"
     ]
    },
    {
     "name": "stdout",
     "output_type": "stream",
     "text": [
      "precision 0.49858460630701407 npositive 68.0\n"
     ]
    },
    {
     "name": "stderr",
     "output_type": "stream",
     "text": [
      "\u001b[32m[I 2023-01-24 14:55:37,945]\u001b[0m Trial 83 finished with value: 0.5707799145299145 and parameters: {'max_depth': 1, 'lr': 0.9017009052861833, 'n_est': 17, 'subsample': 0.5889938274087774, 'loss': 'deviance', 'criterion': 'squared_error', 'THRESHOLD': 0.6973894438981297}. Best is trial 78 with value: 0.7088760198135198.\u001b[0m\n"
     ]
    },
    {
     "name": "stdout",
     "output_type": "stream",
     "text": [
      "precision 0.5438412479758363 npositive 65.75\n"
     ]
    },
    {
     "name": "stderr",
     "output_type": "stream",
     "text": [
      "\u001b[32m[I 2023-01-24 14:55:39,209]\u001b[0m Trial 84 finished with value: 0.6107483203071438 and parameters: {'max_depth': 1, 'lr': 0.8353041403602603, 'n_est': 17, 'subsample': 0.5784433295335039, 'loss': 'deviance', 'criterion': 'squared_error', 'THRESHOLD': 0.6903949780743474}. Best is trial 78 with value: 0.7088760198135198.\u001b[0m\n"
     ]
    },
    {
     "name": "stdout",
     "output_type": "stream",
     "text": [
      "precision 0.5304072471656837 npositive 66.5\n"
     ]
    },
    {
     "name": "stderr",
     "output_type": "stream",
     "text": [
      "\u001b[32m[I 2023-01-24 14:55:40,712]\u001b[0m Trial 85 finished with value: 0.6286907536907537 and parameters: {'max_depth': 1, 'lr': 0.9418762409536334, 'n_est': 13, 'subsample': 0.5552029272930572, 'loss': 'deviance', 'criterion': 'squared_error', 'THRESHOLD': 0.7031887807405992}. Best is trial 78 with value: 0.7088760198135198.\u001b[0m\n"
     ]
    },
    {
     "name": "stdout",
     "output_type": "stream",
     "text": [
      "precision 0.5389318885873844 npositive 66.75\n"
     ]
    },
    {
     "name": "stderr",
     "output_type": "stream",
     "text": [
      "\u001b[32m[I 2023-01-24 14:55:41,818]\u001b[0m Trial 86 finished with value: 0.6037260737628385 and parameters: {'max_depth': 1, 'lr': 0.7968672408121094, 'n_est': 15, 'subsample': 0.5367051656649889, 'loss': 'deviance', 'criterion': 'squared_error', 'THRESHOLD': 0.7214005043241448}. Best is trial 78 with value: 0.7088760198135198.\u001b[0m\n"
     ]
    },
    {
     "name": "stdout",
     "output_type": "stream",
     "text": [
      "precision 0.5226174340512348 npositive 68.5\n"
     ]
    },
    {
     "name": "stderr",
     "output_type": "stream",
     "text": [
      "\u001b[32m[I 2023-01-24 14:55:42,809]\u001b[0m Trial 87 finished with value: 0.4431089743589744 and parameters: {'max_depth': 1, 'lr': 0.8494286138027413, 'n_est': 10, 'subsample': 0.616044954193501, 'loss': 'deviance', 'criterion': 'squared_error', 'THRESHOLD': 0.7025071088885508}. Best is trial 78 with value: 0.7088760198135198.\u001b[0m\n"
     ]
    },
    {
     "name": "stdout",
     "output_type": "stream",
     "text": [
      "precision 0.5492783161143729 npositive 57.125\n"
     ]
    },
    {
     "name": "stderr",
     "output_type": "stream",
     "text": [
      "\u001b[32m[I 2023-01-24 14:55:43,915]\u001b[0m Trial 88 finished with value: 0.49903846153846154 and parameters: {'max_depth': 1, 'lr': 0.8129863159598787, 'n_est': 12, 'subsample': 0.6388618677773114, 'loss': 'exponential', 'criterion': 'friedman_mse', 'THRESHOLD': 0.7111458499685922}. Best is trial 78 with value: 0.7088760198135198.\u001b[0m\n"
     ]
    },
    {
     "name": "stdout",
     "output_type": "stream",
     "text": [
      "precision 0.5072181715770514 npositive 65.125\n"
     ]
    },
    {
     "name": "stderr",
     "output_type": "stream",
     "text": [
      "\u001b[32m[I 2023-01-24 14:55:45,325]\u001b[0m Trial 89 finished with value: 0.5173612827075825 and parameters: {'max_depth': 2, 'lr': 0.9004515830588231, 'n_est': 20, 'subsample': 0.5644546848336814, 'loss': 'deviance', 'criterion': 'squared_error', 'THRESHOLD': 0.697416340575256}. Best is trial 78 with value: 0.7088760198135198.\u001b[0m\n"
     ]
    },
    {
     "name": "stdout",
     "output_type": "stream",
     "text": [
      "precision 0.4931689823568317 npositive 72.5\n"
     ]
    },
    {
     "name": "stderr",
     "output_type": "stream",
     "text": [
      "\u001b[32m[I 2023-01-24 14:55:46,693]\u001b[0m Trial 90 finished with value: 0.49997134739604254 and parameters: {'max_depth': 3, 'lr': 0.9449153914292839, 'n_est': 18, 'subsample': 0.5933171069130802, 'loss': 'deviance', 'criterion': 'squared_error', 'THRESHOLD': 0.6875209230986054}. Best is trial 78 with value: 0.7088760198135198.\u001b[0m\n"
     ]
    },
    {
     "name": "stdout",
     "output_type": "stream",
     "text": [
      "precision 0.4638323515798271 npositive 81.0\n"
     ]
    },
    {
     "name": "stderr",
     "output_type": "stream",
     "text": [
      "\u001b[32m[I 2023-01-24 14:55:48,190]\u001b[0m Trial 91 finished with value: 0.5675892656320288 and parameters: {'max_depth': 1, 'lr': 0.8741455041786306, 'n_est': 35, 'subsample': 0.5083674463545618, 'loss': 'deviance', 'criterion': 'squared_error', 'THRESHOLD': 0.6701534064918336}. Best is trial 78 with value: 0.7088760198135198.\u001b[0m\n"
     ]
    },
    {
     "name": "stdout",
     "output_type": "stream",
     "text": [
      "precision 0.4951091918877488 npositive 69.0\n",
      "precision 0.5272060217590981 npositive 65.625\n"
     ]
    },
    {
     "name": "stderr",
     "output_type": "stream",
     "text": [
      "\u001b[32m[I 2023-01-24 14:55:49,402]\u001b[0m Trial 92 finished with value: 0.6113052104899931 and parameters: {'max_depth': 1, 'lr': 0.7787636365857803, 'n_est': 14, 'subsample': 0.5406608972539774, 'loss': 'deviance', 'criterion': 'squared_error', 'THRESHOLD': 0.7002338602231646}. Best is trial 78 with value: 0.7088760198135198.\u001b[0m\n",
      "\u001b[32m[I 2023-01-24 14:55:51,000]\u001b[0m Trial 93 finished with value: 0.6358216436341437 and parameters: {'max_depth': 1, 'lr': 0.8645292328393999, 'n_est': 16, 'subsample': 0.5264783584682408, 'loss': 'deviance', 'criterion': 'squared_error', 'THRESHOLD': 0.6743929873321982}. Best is trial 78 with value: 0.7088760198135198.\u001b[0m\n"
     ]
    },
    {
     "name": "stdout",
     "output_type": "stream",
     "text": [
      "precision 0.5493122018207757 npositive 64.625\n"
     ]
    },
    {
     "name": "stderr",
     "output_type": "stream",
     "text": [
      "\u001b[32m[I 2023-01-24 14:55:52,877]\u001b[0m Trial 94 finished with value: 0.5989893684746626 and parameters: {'max_depth': 1, 'lr': 0.8389020929584787, 'n_est': 24, 'subsample': 0.5650171881783825, 'loss': 'deviance', 'criterion': 'squared_error', 'THRESHOLD': 0.6918016159745805}. Best is trial 78 with value: 0.7088760198135198.\u001b[0m\n"
     ]
    },
    {
     "name": "stdout",
     "output_type": "stream",
     "text": [
      "precision 0.5283429395800209 npositive 63.0\n",
      "precision 0.5330375674553757 npositive 69.75\n"
     ]
    },
    {
     "name": "stderr",
     "output_type": "stream",
     "text": [
      "\u001b[32m[I 2023-01-24 14:55:54,830]\u001b[0m Trial 95 finished with value: 0.6112125721500721 and parameters: {'max_depth': 1, 'lr': 0.9219273148761835, 'n_est': 15, 'subsample': 0.5513714097014596, 'loss': 'deviance', 'criterion': 'squared_error', 'THRESHOLD': 0.7173025991454463}. Best is trial 78 with value: 0.7088760198135198.\u001b[0m\n",
      "\u001b[32m[I 2023-01-24 14:55:57,900]\u001b[0m Trial 96 finished with value: 0.6274917178409826 and parameters: {'max_depth': 1, 'lr': 0.8837607101351376, 'n_est': 17, 'subsample': 0.5864229299393651, 'loss': 'deviance', 'criterion': 'squared_error', 'THRESHOLD': 0.6818618207096039}. Best is trial 78 with value: 0.7088760198135198.\u001b[0m\n"
     ]
    },
    {
     "name": "stdout",
     "output_type": "stream",
     "text": [
      "precision 0.536418967181279 npositive 62.25\n"
     ]
    },
    {
     "name": "stderr",
     "output_type": "stream",
     "text": [
      "\u001b[32m[I 2023-01-24 14:55:59,464]\u001b[0m Trial 97 finished with value: 0.5844410797535797 and parameters: {'max_depth': 1, 'lr': 0.9035501946531791, 'n_est': 13, 'subsample': 0.5730121911565663, 'loss': 'exponential', 'criterion': 'squared_error', 'THRESHOLD': 0.7072938106908269}. Best is trial 78 with value: 0.7088760198135198.\u001b[0m\n"
     ]
    },
    {
     "name": "stdout",
     "output_type": "stream",
     "text": [
      "precision 0.5176324410596927 npositive 66.625\n"
     ]
    },
    {
     "name": "stderr",
     "output_type": "stream",
     "text": [
      "\u001b[32m[I 2023-01-24 14:56:00,649]\u001b[0m Trial 98 finished with value: 0.5874074454956808 and parameters: {'max_depth': 1, 'lr': 0.9787919468008368, 'n_est': 21, 'subsample': 0.5372844559597795, 'loss': 'deviance', 'criterion': 'squared_error', 'THRESHOLD': 0.6602867373653583}. Best is trial 78 with value: 0.7088760198135198.\u001b[0m\n"
     ]
    },
    {
     "name": "stdout",
     "output_type": "stream",
     "text": [
      "precision 0.5281796229898245 npositive 69.5\n"
     ]
    },
    {
     "name": "stderr",
     "output_type": "stream",
     "text": [
      "\u001b[32m[I 2023-01-24 14:56:02,144]\u001b[0m Trial 99 finished with value: 0.5574723877143442 and parameters: {'max_depth': 2, 'lr': 0.7439926235263933, 'n_est': 27, 'subsample': 0.5119710451661837, 'loss': 'deviance', 'criterion': 'squared_error', 'THRESHOLD': 0.6514992051200188}. Best is trial 78 with value: 0.7088760198135198.\u001b[0m\n"
     ]
    },
    {
     "name": "stdout",
     "output_type": "stream",
     "text": [
      "precision 0.5224621302793611 npositive 73.25\n",
      "{'THRESHOLD': 0.7070798477604443, 'criterion': 'squared_error', 'loss': 'deviance', 'lr': 0.8316516913375693, 'max_depth': 1, 'n_est': 13, 'subsample': 0.5683471085944433} best score: 0.7088760198135198\n"
     ]
    }
   ],
   "source": [
    "def objective(trial):\n",
    "\n",
    "    max_depth = trial.suggest_int('max_depth', 1, 3, log=False)\n",
    "    lr = trial.suggest_float('lr', 0.1, 1.0, log=False)\n",
    "    n_est = trial.suggest_int('n_est', 10, 200, log=True)\n",
    "    subsample = trial.suggest_float('subsample', 0.5, 1.0, log=False)\n",
    "    loss = trial.suggest_categorical('loss',['deviance', 'exponential'])\n",
    "    criterion = trial.suggest_categorical('criterion',['friedman_mse', 'squared_error'])\n",
    "\n",
    "    THRESHOLD = trial.suggest_float('THRESHOLD', .6, .8, log=False)\n",
    "    \n",
    "    classifier_obj = GradientBoostingClassifier(\n",
    "        max_depth=max_depth, \n",
    "        learning_rate=lr,\n",
    "        n_estimators=n_est,\n",
    "        subsample=subsample,\n",
    "        loss=loss,\n",
    "        criterion=criterion\n",
    "        )\n",
    "\n",
    "    cv_res = cross_validate(classifier_obj, X_train, y_train.tgt, \n",
    "        cv=8, \n",
    "        #return_train_score=True,\n",
    "        scoring = {\n",
    "            'accuracy':make_scorer(accuracy_score),\n",
    "            'precision':make_scorer(precision_score),\n",
    "            'npositive':make_scorer(lambda yt,yp: yp.sum()),\n",
    "            'myscore':my_scorer,\n",
    "        }\n",
    "    )\n",
    "    #score = cross_val_score(classifier_obj, X_train, y_train['tgt'], n_jobs=-1, cv=5)\n",
    "    #accuracy = score.mean()\n",
    "\n",
    "    precision = cv_res['test_precision'].mean()\n",
    "    accuracy  = cv_res['test_accuracy'].mean()\n",
    "    npositive = cv_res['test_npositive'].mean()\n",
    "    myscore   = cv_res['test_myscore'].mean()\n",
    "    print('precision',precision,'npositive',npositive)\n",
    "    return myscore\n",
    "\n",
    "study = optuna.create_study(\n",
    "    direction='maximize',\n",
    "    storage=\"sqlite:///db.sqlite3\", # https://github.com/optuna/optuna-dashboard\n",
    "    # study_name=\"trial-study\"\n",
    "    )\n",
    "study.optimize(objective, n_trials=100)\n",
    "print(study.best_params, \"best score:\", study.best_value)"
   ]
  },
  {
   "cell_type": "code",
   "execution_count": 9,
   "metadata": {},
   "outputs": [],
   "source": [
    "model = GradientBoostingClassifier(**config)\n",
    "model.fit(X_train, y_train['tgt'])\n",
    "model_params = model.get_params()\n",
    "\n",
    "# get predictions\n",
    "y_pred = model.predict(X_test)\n",
    "y_probas = model.predict_proba(X_test)\n",
    "importances = model.feature_importances_\n",
    "indices = np.argsort(importances)[::-1]\n"
   ]
  },
  {
   "cell_type": "code",
   "execution_count": null,
   "metadata": {},
   "outputs": [],
   "source": [
    "# precision opt: \n",
    "# {'criterion': 'squared_error', 'loss': 'exponential', 'lr': 0.1830342144130779, 'max_depth': 1, 'n_est': 48, 'subsample': 0.7333617656935432} best score: 0.577118572534203\n",
    "# accuracy opt:\n",
    "# {'criterion': 'squared_error', 'loss': 'exponential', 'lr': 0.18664109568913484, 'max_depth': 1, 'n_est': 83, 'subsample': 0.5919092968415383} best score: 0.5883931753385603\n",
    "# myscore opt:\n",
    "# {'THRESHOLD': 0.617040203257516, 'criterion': 'squared_error', 'loss': 'exponential', 'lr': 0.15987365290248487, 'max_depth': 1, 'n_est': 75, 'subsample': 0.9266465385304337} \n",
    "# best score: 0.5706290505769389"
   ]
  },
  {
   "cell_type": "code",
   "execution_count": 85,
   "metadata": {},
   "outputs": [],
   "source": [
    "THRESHOLD=0.7 # this is a global param, modeified by the optuna\n",
    "def my_scorer(clf, _X_test, _y_test):\n",
    "    y_pred_proba = clf.predict_proba(_X_test)\n",
    "    y_pred = (y_pred_proba[:,1]>THRESHOLD).astype(int)\n",
    "\n",
    "    cm = confusion_matrix(_y_test, y_pred)\n",
    "    p  = precision_score(_y_test, y_pred)\n",
    "    total_pos = cm[:,1].sum()\n",
    "    min_trades_in_period = 8 #8\n",
    "    quantity_score = min(total_pos/min_trades_in_period, 1.0) # have at least min_trades otherwise, fall hyperbolically\n",
    "    SCORE = p * quantity_score # score to maximize: tradeoff between precision and quantity\n",
    "    return SCORE"
   ]
  },
  {
   "cell_type": "code",
   "execution_count": 86,
   "metadata": {},
   "outputs": [
    {
     "data": {
      "text/plain": [
       "{'fit_time': array([0.24406624, 0.18196225, 0.17646861, 0.16819596, 0.17685556,\n",
       "        0.16884923, 0.13920975, 0.1377418 ]),\n",
       " 'score_time': array([0.00548887, 0.00468087, 0.00452447, 0.00423455, 0.0041604 ,\n",
       "        0.0042944 , 0.00276542, 0.00295949]),\n",
       " 'test_myscore': array([0.25 , 0.125, 0.5  , 0.375, 0.25 , 0.375, 0.125, 0.125])}"
      ]
     },
     "execution_count": 86,
     "metadata": {},
     "output_type": "execute_result"
    }
   ],
   "source": [
    "cross_validate(model, X_train, y_train.tgt, \n",
    "    cv=8, \n",
    "    #return_train_score=True,\n",
    "    scoring = {\n",
    "        # 'accuracy':make_scorer(accuracy_score),\n",
    "        # 'precision':make_scorer(precision_score),\n",
    "        # 'npositive':make_scorer(lambda yt,yp: yp.sum()),\n",
    "        'myscore':my_scorer,\n",
    "    }\n",
    ")"
   ]
  },
  {
   "cell_type": "code",
   "execution_count": null,
   "metadata": {},
   "outputs": [],
   "source": []
  }
 ],
 "metadata": {
  "kernelspec": {
   "display_name": "Python 3",
   "language": "python",
   "name": "python3"
  },
  "language_info": {
   "codemirror_mode": {
    "name": "ipython",
    "version": 3
   },
   "file_extension": ".py",
   "mimetype": "text/x-python",
   "name": "python",
   "nbconvert_exporter": "python",
   "pygments_lexer": "ipython3",
   "version": "3.8.10"
  },
  "orig_nbformat": 4,
  "vscode": {
   "interpreter": {
    "hash": "916dbcbb3f70747c44a77c7bcd40155683ae19c65e1c03b4aa3499c5328201f1"
   }
  }
 },
 "nbformat": 4,
 "nbformat_minor": 2
}

{
 "cells": [
  {
   "attachments": {},
   "cell_type": "markdown",
   "metadata": {},
   "source": [
    "# Simulator sandbox"
   ]
  },
  {
   "attachments": {},
   "cell_type": "markdown",
   "metadata": {},
   "source": [
    "This code is to follow `model_tuner_tester.py` to train the simulator (future) class on the data from model tuner."
   ]
  },
  {
   "attachments": {},
   "cell_type": "markdown",
   "metadata": {},
   "source": [
    "## load data"
   ]
  },
  {
   "cell_type": "code",
   "execution_count": 2,
   "metadata": {},
   "outputs": [],
   "source": [
    "import pandas as pd\n",
    "\n",
    "raw = None\n",
    "for split_seed in range(10):\n",
    "    if raw is None:\n",
    "        raw = pd.read_csv(f'../model_cls/seed_{split_seed}.csv')\n",
    "    else:\n",
    "        raw = pd.concat( [raw, pd.read_csv(f'../model_cls/seed_{split_seed}.csv') ])\n",
    "\n",
    "# NOTE: the data is already shuffled\n",
    "# NOTE: there will be (ticker, earnings_date) duplicates, so we avg out below"
   ]
  },
  {
   "cell_type": "code",
   "execution_count": 33,
   "metadata": {},
   "outputs": [],
   "source": [
    "# properties dataframe\n",
    "props = raw.groupby(['ticker','earnings_date','eps_actual','eps_diff','price_var']).mean()[['pred']].reset_index().set_index(['ticker','earnings_date']).sort_index()"
   ]
  },
  {
   "cell_type": "code",
   "execution_count": 13,
   "metadata": {},
   "outputs": [],
   "source": [
    "import sqlite3\n",
    "import numpy as np\n",
    "from matplotlib import pyplot as plt\n",
    "import datetime\n",
    "\n",
    "database = \"../main.db\"\n",
    "\n",
    "# conn.close() # comment this if running the first time\n",
    "conn = sqlite3.connect(database)"
   ]
  },
  {
   "cell_type": "code",
   "execution_count": 6,
   "metadata": {},
   "outputs": [],
   "source": [
    "hist_q = \"\"\"\n",
    "    SELECT \n",
    "        ticker,\n",
    "        DATE(trade_date) trade_date,\n",
    "        close,\n",
    "        low,\n",
    "        high,\n",
    "        volume\n",
    "    FROM yf_history \n",
    "\"\"\"\n",
    "hist  = pd.read_sql_query(hist_q,conn)"
   ]
  },
  {
   "cell_type": "code",
   "execution_count": 51,
   "metadata": {},
   "outputs": [
    {
     "data": {
      "image/png": "[encoded data removed]",
      "text/plain": [
       "<Figure size 432x288 with 1 Axes>"
      ]
     },
     "metadata": {
      "needs_background": "light"
     },
     "output_type": "display_data"
    }
   ],
   "source": [
    "def get_data_for(ticker: str, earnings_date: str, hist_period: int = 4*2, plot=False) -> tuple:\n",
    "    #raw.sample().transpose()\n",
    "    prop = props.loc[ticker, earnings_date]#.head(1).reset_index().transpose()\n",
    "    hist_end = (datetime.datetime.strptime(earnings_date, \"%Y-%m-%d\") + datetime.timedelta(weeks=hist_period)).strftime(\"%Y-%m-%d\")\n",
    "    h = hist[(hist.ticker==ticker) & (hist.trade_date>earnings_date) & (hist.trade_date<hist_end)].reset_index()\n",
    "    init_close = h.head(1).close.values[0]\n",
    "    h['drift'] = h.close/init_close-1.0\n",
    "\n",
    "    if plot:\n",
    "        h.plot('trade_date','drift')\n",
    "\n",
    "    return prop, h\n",
    "\n",
    "prop, h = get_data_for('AON','2022-07-29', plot=True)"
   ]
  },
  {
   "cell_type": "code",
   "execution_count": 60,
   "metadata": {},
   "outputs": [
    {
     "name": "stdout",
     "output_type": "stream",
     "text": [
      "final gain for sell_pct 0.02 and stop_loss -0.02: 0.02\n",
      "final gain for sell_pct 0.02 and stop_loss -0.05: 0.02\n",
      "final gain for sell_pct 0.02 and stop_loss -0.08: 0.02\n",
      "final gain for sell_pct 0.02 and stop_loss -0.1: 0.02\n",
      "final gain for sell_pct 0.02 and stop_loss -0.15: 0.02\n",
      "final gain for sell_pct 0.02 and stop_loss -0.2: 0.02\n",
      "final gain for sell_pct 0.05 and stop_loss -0.02: 0.06\n",
      "final gain for sell_pct 0.05 and stop_loss -0.05: 0.06\n",
      "final gain for sell_pct 0.05 and stop_loss -0.08: 0.06\n",
      "final gain for sell_pct 0.05 and stop_loss -0.1: 0.06\n",
      "final gain for sell_pct 0.05 and stop_loss -0.15: 0.06\n",
      "final gain for sell_pct 0.05 and stop_loss -0.2: 0.06\n",
      "final gain for sell_pct 0.08 and stop_loss -0.02: -0.03\n",
      "final gain for sell_pct 0.08 and stop_loss -0.05: -0.03\n",
      "final gain for sell_pct 0.08 and stop_loss -0.08: -0.03\n",
      "final gain for sell_pct 0.08 and stop_loss -0.1: -0.03\n",
      "final gain for sell_pct 0.08 and stop_loss -0.15: -0.03\n",
      "final gain for sell_pct 0.08 and stop_loss -0.2: -0.03\n",
      "final gain for sell_pct 0.1 and stop_loss -0.02: -0.03\n",
      "final gain for sell_pct 0.1 and stop_loss -0.05: -0.03\n",
      "final gain for sell_pct 0.1 and stop_loss -0.08: -0.03\n",
      "final gain for sell_pct 0.1 and stop_loss -0.1: -0.03\n",
      "final gain for sell_pct 0.1 and stop_loss -0.15: -0.03\n",
      "final gain for sell_pct 0.1 and stop_loss -0.2: -0.03\n",
      "final gain for sell_pct 0.15 and stop_loss -0.02: -0.03\n",
      "final gain for sell_pct 0.15 and stop_loss -0.05: -0.03\n",
      "final gain for sell_pct 0.15 and stop_loss -0.08: -0.03\n",
      "final gain for sell_pct 0.15 and stop_loss -0.1: -0.03\n",
      "final gain for sell_pct 0.15 and stop_loss -0.15: -0.03\n",
      "final gain for sell_pct 0.15 and stop_loss -0.2: -0.03\n",
      "final gain for sell_pct 0.2 and stop_loss -0.02: -0.03\n",
      "final gain for sell_pct 0.2 and stop_loss -0.05: -0.03\n",
      "final gain for sell_pct 0.2 and stop_loss -0.08: -0.03\n",
      "final gain for sell_pct 0.2 and stop_loss -0.1: -0.03\n",
      "final gain for sell_pct 0.2 and stop_loss -0.15: -0.03\n",
      "final gain for sell_pct 0.2 and stop_loss -0.2: -0.03\n"
     ]
    }
   ],
   "source": [
    "def simulate_trade(drift, sell_pct = 0.05, stop_loss = -0.01) -> float:\n",
    "    for d in drift:\n",
    "        if d<=stop_loss or d>=sell_pct:\n",
    "            break\n",
    "    return d\n",
    "\n",
    "def simulation_grid(h, \n",
    "        sell_pct_arr = [.02, .05, .08, .10, .15, .20],\n",
    "        stop_loss_arr= [-.02, -.05, -.08, -.10, -.15, -.20]\n",
    "        ):\n",
    "    drift = h.drift.to_list()\n",
    "    for sell_pct in sell_pct_arr:\n",
    "        for stop_loss in stop_loss_arr:\n",
    "            gain = simulate_trade(drift, sell_pct, stop_loss)\n",
    "            \n",
    "            print(f\"final gain for sell_pct {sell_pct} and stop_loss {stop_loss}: {round(gain,2)}\")\n",
    "\n",
    "simulation_grid(h)"
   ]
  },
  {
   "cell_type": "code",
   "execution_count": null,
   "metadata": {},
   "outputs": [],
   "source": []
  }
 ],
 "metadata": {
  "kernelspec": {
   "display_name": "Python 3",
   "language": "python",
   "name": "python3"
  },
  "language_info": {
   "codemirror_mode": {
    "name": "ipython",
    "version": 3
   },
   "file_extension": ".py",
   "mimetype": "text/x-python",
   "name": "python",
   "nbconvert_exporter": "python",
   "pygments_lexer": "ipython3",
   "version": "3.8.10"
  },
  "orig_nbformat": 4,
  "vscode": {
   "interpreter": {
    "hash": "916dbcbb3f70747c44a77c7bcd40155683ae19c65e1c03b4aa3499c5328201f1"
   }
  }
 },
 "nbformat": 4,
 "nbformat_minor": 2
}
